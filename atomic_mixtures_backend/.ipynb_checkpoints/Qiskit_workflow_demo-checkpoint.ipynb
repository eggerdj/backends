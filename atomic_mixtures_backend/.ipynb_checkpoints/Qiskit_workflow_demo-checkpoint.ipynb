{
 "cells": [
  {
   "cell_type": "markdown",
   "metadata": {},
   "source": [
    "## Cold Atom integration into Qiskit demo notebook\n",
    "\n",
    "In this notebook we will explore the typical workflow of how a user can communicate with the NaLi machine in Heidelberg as an example of how to integrate remote backends into Qiskit.\n",
    "\n",
    "A schematic of this is shown in the figure below. Red parts in the pseudocode highlight new classes and functionalities which we showcase in this notebook while yellow indicates where we can use existing classes from Qiskit without further modification. \n",
    "\\\n",
    "Blue dashed arrows indicate all points where requests are sent form the user to the backend url, while green dashed arrows symbolise the response to those requests. The remote backend in the diagram is simulated here with a mock API built in flask running on the localhost.\n",
    "\\\n",
    "A simple pip install qiskit should install all the required packages from Qiskit.\n",
    "\n",
    "![](workflow_overview.png )\n",
    "\n"
   ]
  },
  {
   "cell_type": "markdown",
   "metadata": {},
   "source": [
    "# I: Loading the backend\n",
    "\n",
    "Let's first import the provider which manages the access to the backends. We print the list of available backends. "
   ]
  },
  {
   "cell_type": "code",
   "execution_count": 1,
   "metadata": {},
   "outputs": [
    {
     "name": "stdout",
     "output_type": "stream",
     "text": [
      "[<CoherentSpinsDevice('SYNQS_NaLi_spins_backend')>, <CoherentSpinsSimulator('coherent_spin_qubits')>]\n"
     ]
    }
   ],
   "source": [
    "from cold_atom_provider import ColdAtomProvider \n",
    "\n",
    "provider = ColdAtomProvider('token')\n",
    "backend_list = provider.backends() \n",
    "\n",
    "print(backend_list)"
   ]
  },
  {
   "cell_type": "markdown",
   "metadata": {},
   "source": [
    "We select the `CoherentSpinsDevice` backend and take a look at the configuration of this backend:"
   ]
  },
  {
   "cell_type": "code",
   "execution_count": 2,
   "metadata": {},
   "outputs": [
    {
     "name": "stdout",
     "output_type": "stream",
     "text": [
      "{'atomic_species': ['na'],\n",
      " 'backend_name': 'SYNQS_NaLi_spins_backend',\n",
      " 'backend_version': '0.0.1',\n",
      " 'basis_gates': ['rLx', 'rLz', 'rLz2'],\n",
      " 'conditional': False,\n",
      " 'coupling_map': [[]],\n",
      " 'credits_required': False,\n",
      " 'description': 'Setup of a cold atomic mixtures experiment with qudits.',\n",
      " 'display_name': 'NaLi',\n",
      " 'dynamic_reprate_enabled': False,\n",
      " 'gates': [{'coupling_map': [[0], [1], [2], [3], [4]],\n",
      "            'description': 'Evolution under the Z gate',\n",
      "            'name': 'rLz',\n",
      "            'parameters': ['delta'],\n",
      "            'qasm_def': 'gate rLz(delta) {}'},\n",
      "           {'coupling_map': [[0], [1], [2], [3], [4]],\n",
      "            'description': 'Evolution under the Z2 gate',\n",
      "            'name': 'rLz2',\n",
      "            'parameters': ['chi'],\n",
      "            'qasm_def': 'gate rLz2(chi) {}'},\n",
      "           {'coupling_map': [[0], [1], [2], [3], [4]],\n",
      "            'description': 'Evolution under the X gate',\n",
      "            'name': 'rLx',\n",
      "            'parameters': ['omega'],\n",
      "            'qasm_def': 'gate rx(omega) {}'}],\n",
      " 'local': False,\n",
      " 'max_experiments': 3,\n",
      " 'max_shots': 60,\n",
      " 'memory': True,\n",
      " 'n_qubits': 5,\n",
      " 'open_pulse': False,\n",
      " 'simulator': False,\n",
      " 'supported_instructions': ['delay',\n",
      "                            'rLx',\n",
      "                            'rLz',\n",
      "                            'rLz2',\n",
      "                            'measure',\n",
      "                            'barrier'],\n",
      " 'url': 'http://localhost:9000/shots/'}\n"
     ]
    }
   ],
   "source": [
    "backend = provider.get_backend('SYNQS_NaLi_spins_backend')\n",
    "config_dict = backend.configuration().to_dict()\n",
    "\n",
    "import pprint\n",
    "pprint.pprint(config_dict)"
   ]
  },
  {
   "cell_type": "markdown",
   "metadata": {},
   "source": [
    "This configuration file tells us all we need to know about the backend. In particular, it communicates to the user which gate instructions it will accept in a circuit, how many wires the circuit can have etc. We also see the url on which it is running through the ssh."
   ]
  },
  {
   "cell_type": "markdown",
   "metadata": {},
   "source": [
    "# II: Building the quantum circuit\n",
    "\n",
    "Here we demostrate how to build a quantum circuit for a cold atom device using the cold atom gate library and the `get_empty_circuit` method of the backend. This empty circuit will be initialized with the correct quantum and classical registers for the backend device. In this case there are 5 wires that represent the 5 trapping sites of the sodium BECs and a classical register to later bind the measurements to."
   ]
  },
  {
   "cell_type": "code",
   "execution_count": 3,
   "metadata": {},
   "outputs": [
    {
     "name": "stdout",
     "output_type": "stream",
     "text": [
      "Quantum registers in the circuit:  [QuantumRegister(5, 'na')]\n",
      "Classical registers in the circuit:  [ClassicalRegister(5, 'c5')]\n"
     ]
    },
    {
     "data": {
      "text/html": [
       "<pre style=\"word-wrap: normal;white-space: pre;background: #fff0;line-height: 1.1;font-family: &quot;Courier New&quot;,Courier,monospace\">      \n",
       "na_0: \n",
       "      \n",
       "na_1: \n",
       "      \n",
       "na_2: \n",
       "      \n",
       "na_3: \n",
       "      \n",
       "na_4: \n",
       "      \n",
       "c5: 5/\n",
       "      </pre>"
      ],
      "text/plain": [
       "      \n",
       "na_0: \n",
       "      \n",
       "na_1: \n",
       "      \n",
       "na_2: \n",
       "      \n",
       "na_3: \n",
       "      \n",
       "na_4: \n",
       "      \n",
       "c5: 5/\n",
       "      "
      ]
     },
     "execution_count": 3,
     "metadata": {},
     "output_type": "execute_result"
    }
   ],
   "source": [
    "circuit = backend.get_empty_circuit()\n",
    "\n",
    "print(\"Quantum registers in the circuit: \", circuit.qregs)\n",
    "print(\"Classical registers in the circuit: \", circuit.cregs)\n",
    "circuit.draw()"
   ]
  },
  {
   "cell_type": "code",
   "execution_count": 4,
   "metadata": {},
   "outputs": [
    {
     "name": "stdout",
     "output_type": "stream",
     "text": [
      "<class 'qiskit.circuit.quantumcircuit.QuantumCircuit'>\n"
     ]
    }
   ],
   "source": [
    "print(type(circuit))"
   ]
  },
  {
   "cell_type": "markdown",
   "metadata": {},
   "source": [
    "We can now add gates from the library to this empty circuit and use qiskits `.draw` method for now. We aim to implement our own circuit drawer that more nicely differentiates between the two atomic species. "
   ]
  },
  {
   "cell_type": "code",
   "execution_count": 5,
   "metadata": {},
   "outputs": [
    {
     "data": {
      "image/png": "[encoded data removed]",
      "text/plain": [
       "<Figure size 520.833x385.28 with 1 Axes>"
      ]
     },
     "execution_count": 5,
     "metadata": {},
     "output_type": "execute_result"
    }
   ],
   "source": [
    "from gate_library import LXGate, LZGate, LZ2Gate\n",
    "\n",
    "circuit.append(LXGate(omega=0.7), qargs=[0])\n",
    "circuit.append(LZGate(delta=0.4), qargs=[1])\n",
    "circuit.append(LZ2Gate(chi=0.2), qargs=[3])\n",
    "circuit.barrier()\n",
    "circuit.measure(range(5), range(5))\n",
    "circuit.draw(output = 'mpl')"
   ]
  },
  {
   "cell_type": "markdown",
   "metadata": {},
   "source": [
    "The circuit can also be built up from scratch without calling `get_empty_circuit`.\n",
    "\n",
    "The gates can also be added to the circuit in a shorthand notation using `circuit.lx`, `circuit.lz` or `circuit.lz2`.\n",
    "\n",
    "We demostrate this here for a minimal list of circuits that measure Rabi oscillations by applying the Rx gate with increasingly large angles:\n",
    "\n",
    "### Example: Rabi circuit"
   ]
  },
  {
   "cell_type": "code",
   "execution_count": 19,
   "metadata": {},
   "outputs": [
    {
     "data": {
      "image/png": "[encoded data removed]",
      "text/plain": [
       "<Figure size 193.726x144.48 with 1 Axes>"
      ]
     },
     "execution_count": 19,
     "metadata": {},
     "output_type": "execute_result"
    }
   ],
   "source": [
    "import numpy as np\n",
    "from qiskit import QuantumCircuit\n",
    "\n",
    "rabi_list = []\n",
    "\n",
    "angles = np.linspace(0, 2*np.pi, 20)\n",
    "\n",
    "for i, omega in enumerate(angles):\n",
    "    circuit = QuantumCircuit(1, 1)    \n",
    "    circuit.lx(omega, 0)\n",
    "    circuit.measure(0, 0)\n",
    "    rabi_list.append(circuit)\n",
    "\n",
    "rabi_list[1].draw(output='mpl')"
   ]
  },
  {
   "cell_type": "markdown",
   "metadata": {},
   "source": [
    "Other circuits of interest are Ramsey sequences involving the `Rz` gate and spin-squeezing dynamics induced by the `RZ2` gate:\n",
    "\n",
    "### Example: Ramsey"
   ]
  },
  {
   "cell_type": "code",
   "execution_count": 7,
   "metadata": {},
   "outputs": [
    {
     "data": {
      "image/png": "[encoded data removed]",
      "text/plain": [
       "<Figure size 314.126x144.48 with 1 Axes>"
      ]
     },
     "execution_count": 7,
     "metadata": {},
     "output_type": "execute_result"
    }
   ],
   "source": [
    "ramsey_circ = QuantumCircuit(1, 1)\n",
    "\n",
    "ramsey_circ.lx(np.pi/2, 0)\n",
    "ramsey_circ.lz(0.3, 0)\n",
    "ramsey_circ.lx(-np.pi/2, 0)\n",
    "\n",
    "ramsey_circ.measure(0, 0)\n",
    "\n",
    "ramsey_circ.draw(output = 'mpl')"
   ]
  },
  {
   "cell_type": "markdown",
   "metadata": {},
   "source": [
    "### Example: Spin squeezing"
   ]
  },
  {
   "cell_type": "code",
   "execution_count": 8,
   "metadata": {},
   "outputs": [
    {
     "data": {
      "image/png": "[encoded data removed]",
      "text/plain": [
       "<Figure size 314.126x144.48 with 1 Axes>"
      ]
     },
     "execution_count": 8,
     "metadata": {},
     "output_type": "execute_result"
    }
   ],
   "source": [
    "squeez_circ = QuantumCircuit(1, 1)\n",
    "\n",
    "squeez_circ.lx(np.pi/2, 0)\n",
    "squeez_circ.lz(0.3, 0)\n",
    "squeez_circ.lx(-np.pi/2, 0)\n",
    "squeez_circ.measure(0, 0)\n",
    "\n",
    "squeez_circ.draw(output = 'mpl')"
   ]
  },
  {
   "cell_type": "markdown",
   "metadata": {},
   "source": [
    "This circuit can be converted into a Json payload that is sent to the backend server with the `circuit_to_cold_atom` method:"
   ]
  },
  {
   "cell_type": "code",
   "execution_count": 10,
   "metadata": {},
   "outputs": [
    {
     "name": "stdout",
     "output_type": "stream",
     "text": [
      "{'experiment_0': {'instructions': [('rLx', [0], [1.5707963267948966]),\n",
      "                                   ('rLz', [0], [0.3]),\n",
      "                                   ('rLx', [0], [-1.5707963267948966]),\n",
      "                                   ('measure', [0], [])],\n",
      "                  'num_wires': 1,\n",
      "                  'shots': 60}}\n"
     ]
    }
   ],
   "source": [
    "from circuit_to_cold_atom import circuit_to_cold_atom\n",
    "\n",
    "pprint.pprint(circuit_to_cold_atom(squeez_circ, backend))"
   ]
  },
  {
   "cell_type": "markdown",
   "metadata": {},
   "source": [
    "Under the `instructions` key, there is now a tuple for each instruction in the circuit. The first element is the name of that instruction, while the second element lists the indices of the wires that the instruction acts on. The last element of that tuple gives the value of the prameters of that instruction (if any). "
   ]
  },
  {
   "cell_type": "markdown",
   "metadata": {},
   "source": [
    "This function will complain if the gates used do not match the backend. Let's try to add a gate that is not support, such as the Hadamard gate:"
   ]
  },
  {
   "cell_type": "code",
   "execution_count": 15,
   "metadata": {},
   "outputs": [
    {
     "data": {
      "text/plain": [
       "<qiskit.circuit.instructionset.InstructionSet at 0x289407a4f70>"
      ]
     },
     "execution_count": 15,
     "metadata": {},
     "output_type": "execute_result"
    }
   ],
   "source": [
    "circuit_wrong = backend.get_empty_circuit()\n",
    "\n",
    "circuit_wrong.h(0)\n",
    "\n",
    "# uncommenting this will create an error\n",
    "# circuit_to_cold_atom(circuit_wrong, backend)"
   ]
  },
  {
   "cell_type": "markdown",
   "metadata": {},
   "source": [
    "## III. Sending the circuit to the backend\n",
    "\n",
    "We can now send this circuit to the backend. This creates a `ColdAtomJob` object. "
   ]
  },
  {
   "cell_type": "code",
   "execution_count": 16,
   "metadata": {},
   "outputs": [
    {
     "name": "stdout",
     "output_type": "stream",
     "text": [
      "<class 'cold_atom_job.ColdAtomJob'>\n"
     ]
    }
   ],
   "source": [
    "job = backend.run(squeez_circ)\n",
    "print(type(job))"
   ]
  },
  {
   "cell_type": "markdown",
   "metadata": {},
   "source": [
    "The remote backend has created a `job_id`, which serves as a unique identifier for this job:"
   ]
  },
  {
   "cell_type": "code",
   "execution_count": 17,
   "metadata": {},
   "outputs": [
    {
     "name": "stdout",
     "output_type": "stream",
     "text": [
      "20210407_190314_4d3c3\n"
     ]
    }
   ],
   "source": [
    "print(job._job_id)"
   ]
  },
  {
   "cell_type": "markdown",
   "metadata": {},
   "source": [
    "## IV: Checking for status \n",
    "\n",
    "The remote backend on the Heidelberg side will now process this job further.\n",
    "The backend does not automatically return the measurement status or result to the user.\n",
    "Rather it is the user that has to make all requests. \n",
    "\n",
    "To check whether the job has finished, is running, or placed in the queue, Qiskit provides a `status` function:"
   ]
  },
  {
   "cell_type": "code",
   "execution_count": 18,
   "metadata": {},
   "outputs": [
    {
     "name": "stdout",
     "output_type": "stream",
     "text": [
      "<Response [200]>\n",
      "200\n",
      "INITIALIZING\n"
     ]
    }
   ],
   "source": [
    "print(job.status())"
   ]
  },
  {
   "cell_type": "markdown",
   "metadata": {},
   "source": [
    "## V: Retrieving the result from the backend\n",
    "\n",
    "To access the results of our circuit, we have to ask the backend for it. Internally the backend checks the `job_id` of the job and looks up the stored measurement outcomes. The backend then returns a Json dictionary which includes all information about the measurements and is turned into a `Qiskit.Result` object:"
   ]
  },
  {
   "cell_type": "code",
   "execution_count": 28,
   "metadata": {},
   "outputs": [
    {
     "name": "stdout",
     "output_type": "stream",
     "text": [
      "completed cycle\n",
      "completed cycle\n",
      "completed cycle\n",
      "completed cycle\n",
      "completed cycle\n",
      "completed cycle\n",
      "completed cycle\n",
      "completed cycle\n",
      "completed cycle\n",
      "completed cycle\n",
      "completed cycle\n",
      "completed cycle\n",
      "completed cycle\n",
      "completed cycle\n",
      "completed cycle\n",
      "completed cycle\n",
      "completed cycle\n",
      "completed cycle\n",
      "completed cycle\n",
      "completed cycle\n",
      "completed cycle\n",
      "completed cycle\n",
      "completed cycle\n",
      "completed cycle\n",
      "completed cycle\n",
      "completed cycle\n",
      "completed cycle\n",
      "completed cycle\n",
      "completed cycle\n",
      "completed cycle\n",
      "completed cycle\n",
      "completed cycle\n",
      "completed cycle\n",
      "completed cycle\n",
      "completed cycle\n",
      "completed cycle\n",
      "completed cycle\n",
      "completed cycle\n",
      "completed cycle\n",
      "completed cycle\n",
      "completed cycle\n",
      "completed cycle\n",
      "completed cycle\n",
      "completed cycle\n",
      "completed cycle\n",
      "completed cycle\n",
      "completed cycle\n",
      "completed cycle\n",
      "completed cycle\n",
      "completed cycle\n",
      "completed cycle\n",
      "completed cycle\n",
      "completed cycle\n",
      "completed cycle\n",
      "completed cycle\n",
      "completed cycle\n",
      "completed cycle\n",
      "completed cycle\n",
      "completed cycle\n",
      "completed cycle\n",
      "completed cycle\n",
      "completed cycle\n",
      "completed cycle\n",
      "completed cycle\n",
      "completed cycle\n",
      "completed cycle\n",
      "completed cycle\n",
      "completed cycle\n",
      "completed cycle\n",
      "completed cycle\n",
      "completed cycle\n",
      "completed cycle\n",
      "completed cycle\n",
      "completed cycle\n",
      "completed cycle\n",
      "completed cycle\n",
      "completed cycle\n",
      "completed cycle\n",
      "completed cycle\n",
      "completed cycle\n",
      "completed cycle\n",
      "completed cycle\n",
      "completed cycle\n",
      "completed cycle\n",
      "completed cycle\n",
      "completed cycle\n",
      "completed cycle\n",
      "completed cycle\n",
      "completed cycle\n",
      "completed cycle\n",
      "completed cycle\n",
      "completed cycle\n",
      "completed cycle\n",
      "completed cycle\n",
      "completed cycle\n",
      "completed cycle\n",
      "completed cycle\n",
      "completed cycle\n",
      "completed cycle\n",
      "completed cycle\n",
      "completed cycle\n",
      "completed cycle\n",
      "completed cycle\n",
      "completed cycle\n",
      "completed cycle\n",
      "completed cycle\n",
      "completed cycle\n",
      "completed cycle\n",
      "completed cycle\n",
      "completed cycle\n",
      "completed cycle\n",
      "completed cycle\n",
      "completed cycle\n",
      "completed cycle\n",
      "completed cycle\n",
      "completed cycle\n",
      "completed cycle\n",
      "completed cycle\n",
      "completed cycle\n",
      "completed cycle\n",
      "completed cycle\n",
      "completed cycle\n",
      "completed cycle\n",
      "completed cycle\n",
      "completed cycle\n",
      "completed cycle\n",
      "completed cycle\n",
      "completed cycle\n",
      "completed cycle\n",
      "completed cycle\n",
      "completed cycle\n",
      "completed cycle\n",
      "completed cycle\n",
      "completed cycle\n",
      "completed cycle\n",
      "completed cycle\n",
      "completed cycle\n",
      "completed cycle\n",
      "completed cycle\n",
      "completed cycle\n",
      "completed cycle\n",
      "completed cycle\n",
      "completed cycle\n",
      "completed cycle\n",
      "completed cycle\n",
      "completed cycle\n",
      "completed cycle\n",
      "completed cycle\n",
      "completed cycle\n",
      "completed cycle\n",
      "completed cycle\n",
      "completed cycle\n",
      "completed cycle\n",
      "completed cycle\n",
      "completed cycle\n",
      "completed cycle\n",
      "completed cycle\n",
      "completed cycle\n",
      "completed cycle\n",
      "completed cycle\n",
      "completed cycle\n",
      "completed cycle\n",
      "completed cycle\n",
      "completed cycle\n",
      "completed cycle\n",
      "completed cycle\n",
      "completed cycle\n",
      "completed cycle\n",
      "completed cycle\n",
      "completed cycle\n",
      "completed cycle\n",
      "completed cycle\n",
      "completed cycle\n",
      "completed cycle\n",
      "completed cycle\n",
      "completed cycle\n",
      "completed cycle\n",
      "completed cycle\n",
      "completed cycle\n",
      "completed cycle\n",
      "completed cycle\n",
      "completed cycle\n",
      "completed cycle\n",
      "completed cycle\n",
      "completed cycle\n",
      "completed cycle\n",
      "completed cycle\n",
      "completed cycle\n",
      "completed cycle\n",
      "completed cycle\n",
      "completed cycle\n",
      "completed cycle\n",
      "completed cycle\n",
      "completed cycle\n",
      "completed cycle\n",
      "completed cycle\n",
      "completed cycle\n",
      "completed cycle\n",
      "completed cycle\n",
      "completed cycle\n",
      "completed cycle\n",
      "completed cycle\n",
      "completed cycle\n",
      "completed cycle\n",
      "completed cycle\n",
      "completed cycle\n",
      "completed cycle\n",
      "completed cycle\n",
      "completed cycle\n",
      "completed cycle\n",
      "completed cycle\n",
      "completed cycle\n",
      "completed cycle\n",
      "completed cycle\n",
      "completed cycle\n",
      "completed cycle\n",
      "completed cycle\n",
      "completed cycle\n",
      "completed cycle\n",
      "completed cycle\n",
      "completed cycle\n",
      "completed cycle\n",
      "completed cycle\n",
      "completed cycle\n",
      "completed cycle\n",
      "completed cycle\n",
      "completed cycle\n",
      "completed cycle\n",
      "completed cycle\n",
      "completed cycle\n",
      "completed cycle\n",
      "completed cycle\n",
      "completed cycle\n",
      "completed cycle\n",
      "completed cycle\n",
      "completed cycle\n",
      "completed cycle\n",
      "completed cycle\n",
      "completed cycle\n",
      "completed cycle\n",
      "completed cycle\n",
      "completed cycle\n",
      "completed cycle\n",
      "completed cycle\n",
      "completed cycle\n",
      "completed cycle\n",
      "completed cycle\n",
      "completed cycle\n",
      "completed cycle\n",
      "completed cycle\n",
      "completed cycle\n",
      "completed cycle\n",
      "completed cycle\n",
      "completed cycle\n",
      "completed cycle\n",
      "completed cycle\n",
      "completed cycle\n",
      "completed cycle\n",
      "completed cycle\n",
      "completed cycle\n",
      "completed cycle\n",
      "completed cycle\n",
      "completed cycle\n",
      "completed cycle\n",
      "completed cycle\n",
      "completed cycle\n",
      "completed cycle\n",
      "completed cycle\n",
      "completed cycle\n",
      "completed cycle\n",
      "completed cycle\n",
      "completed cycle\n",
      "completed cycle\n",
      "completed cycle\n",
      "completed cycle\n",
      "completed cycle\n",
      "completed cycle\n",
      "completed cycle\n",
      "completed cycle\n",
      "completed cycle\n",
      "completed cycle\n",
      "completed cycle\n",
      "completed cycle\n",
      "completed cycle\n",
      "completed cycle\n",
      "completed cycle\n",
      "completed cycle\n",
      "completed cycle\n",
      "completed cycle\n",
      "completed cycle\n",
      "completed cycle\n",
      "completed cycle\n",
      "completed cycle\n",
      "completed cycle\n",
      "completed cycle\n",
      "completed cycle\n",
      "completed cycle\n",
      "completed cycle\n",
      "completed cycle\n",
      "completed cycle\n",
      "completed cycle\n",
      "completed cycle\n",
      "completed cycle\n",
      "completed cycle\n",
      "completed cycle\n",
      "completed cycle\n",
      "completed cycle\n",
      "completed cycle\n",
      "completed cycle\n",
      "completed cycle\n",
      "completed cycle\n",
      "completed cycle\n",
      "completed cycle\n",
      "completed cycle\n",
      "completed cycle\n",
      "completed cycle\n",
      "completed cycle\n",
      "completed cycle\n",
      "completed cycle\n",
      "completed cycle\n",
      "completed cycle\n",
      "completed cycle\n",
      "completed cycle\n",
      "completed cycle\n",
      "completed cycle\n",
      "completed cycle\n",
      "completed cycle\n",
      "completed cycle\n",
      "completed cycle\n",
      "completed cycle\n",
      "completed cycle\n",
      "completed cycle\n",
      "completed cycle\n",
      "completed cycle\n",
      "completed cycle\n",
      "completed cycle\n",
      "completed cycle\n",
      "completed cycle\n",
      "completed cycle\n",
      "completed cycle\n",
      "completed cycle\n",
      "completed cycle\n",
      "completed cycle\n",
      "completed cycle\n",
      "completed cycle\n",
      "completed cycle\n",
      "completed cycle\n",
      "completed cycle\n",
      "completed cycle\n",
      "completed cycle\n",
      "completed cycle\n",
      "completed cycle\n",
      "completed cycle\n",
      "completed cycle\n",
      "completed cycle\n",
      "completed cycle\n",
      "completed cycle\n",
      "completed cycle\n",
      "completed cycle\n",
      "completed cycle\n",
      "completed cycle\n",
      "completed cycle\n",
      "completed cycle\n",
      "completed cycle\n",
      "completed cycle\n",
      "completed cycle\n",
      "completed cycle\n",
      "completed cycle\n",
      "completed cycle\n",
      "completed cycle\n",
      "completed cycle\n",
      "completed cycle\n",
      "completed cycle\n",
      "completed cycle\n",
      "completed cycle\n",
      "completed cycle\n",
      "completed cycle\n",
      "completed cycle\n",
      "completed cycle\n",
      "completed cycle\n",
      "completed cycle\n",
      "completed cycle\n",
      "completed cycle\n",
      "completed cycle\n",
      "completed cycle\n",
      "completed cycle\n",
      "completed cycle\n",
      "completed cycle\n",
      "completed cycle\n",
      "completed cycle\n",
      "completed cycle\n",
      "completed cycle\n",
      "completed cycle\n",
      "completed cycle\n",
      "completed cycle\n",
      "completed cycle\n",
      "completed cycle\n",
      "completed cycle\n",
      "completed cycle\n",
      "completed cycle\n",
      "completed cycle\n",
      "completed cycle\n",
      "completed cycle\n",
      "completed cycle\n",
      "completed cycle\n",
      "completed cycle\n",
      "completed cycle\n",
      "completed cycle\n",
      "completed cycle\n",
      "completed cycle\n",
      "completed cycle\n",
      "completed cycle\n",
      "completed cycle\n",
      "completed cycle\n",
      "completed cycle\n",
      "completed cycle\n",
      "completed cycle\n",
      "completed cycle\n",
      "completed cycle\n",
      "completed cycle\n",
      "completed cycle\n",
      "completed cycle\n",
      "completed cycle\n",
      "completed cycle\n",
      "completed cycle\n",
      "completed cycle\n"
     ]
    },
    {
     "ename": "KeyboardInterrupt",
     "evalue": "",
     "output_type": "error",
     "traceback": [
      "\u001b[1;31m---------------------------------------------------------------------------\u001b[0m",
      "\u001b[1;31mKeyboardInterrupt\u001b[0m                         Traceback (most recent call last)",
      "\u001b[1;32m<ipython-input-28-6828da84d8c4>\u001b[0m in \u001b[0;36m<module>\u001b[1;34m\u001b[0m\n\u001b[1;32m----> 1\u001b[1;33m \u001b[0mresult\u001b[0m \u001b[1;33m=\u001b[0m \u001b[0mjob\u001b[0m\u001b[1;33m.\u001b[0m\u001b[0mresult\u001b[0m\u001b[1;33m(\u001b[0m\u001b[1;33m)\u001b[0m\u001b[1;33m\u001b[0m\u001b[1;33m\u001b[0m\u001b[0m\n\u001b[0m\u001b[0;32m      2\u001b[0m \u001b[0mprint\u001b[0m\u001b[1;33m(\u001b[0m\u001b[0mtype\u001b[0m\u001b[1;33m(\u001b[0m\u001b[0mresult\u001b[0m\u001b[1;33m)\u001b[0m\u001b[1;33m)\u001b[0m\u001b[1;33m\u001b[0m\u001b[1;33m\u001b[0m\u001b[0m\n",
      "\u001b[1;32m~\\Documents\\backends\\atomic_mixtures_backend\\cold_atom_job.py\u001b[0m in \u001b[0;36mresult\u001b[1;34m(self, timeout, wait)\u001b[0m\n\u001b[0;32m     77\u001b[0m     \u001b[1;32mdef\u001b[0m \u001b[0mresult\u001b[0m\u001b[1;33m(\u001b[0m\u001b[0mself\u001b[0m\u001b[1;33m,\u001b[0m \u001b[0mtimeout\u001b[0m\u001b[1;33m:\u001b[0m \u001b[0mfloat\u001b[0m \u001b[1;33m=\u001b[0m \u001b[1;32mNone\u001b[0m\u001b[1;33m,\u001b[0m \u001b[0mwait\u001b[0m\u001b[1;33m:\u001b[0m \u001b[0mfloat\u001b[0m \u001b[1;33m=\u001b[0m \u001b[1;36m5.0\u001b[0m\u001b[1;33m)\u001b[0m \u001b[1;33m->\u001b[0m \u001b[0mResult\u001b[0m\u001b[1;33m:\u001b[0m\u001b[1;33m\u001b[0m\u001b[1;33m\u001b[0m\u001b[0m\n\u001b[0;32m     78\u001b[0m         \u001b[1;34m\"\"\"Retrieve a result from the backend.\"\"\"\u001b[0m\u001b[1;33m\u001b[0m\u001b[1;33m\u001b[0m\u001b[0m\n\u001b[1;32m---> 79\u001b[1;33m         \u001b[0mresult_dict\u001b[0m \u001b[1;33m=\u001b[0m \u001b[0mself\u001b[0m\u001b[1;33m.\u001b[0m\u001b[0m_wait_for_result\u001b[0m\u001b[1;33m(\u001b[0m\u001b[0mtimeout\u001b[0m\u001b[1;33m,\u001b[0m \u001b[0mwait\u001b[0m\u001b[1;33m=\u001b[0m\u001b[0mwait\u001b[0m\u001b[1;33m)\u001b[0m\u001b[1;33m\u001b[0m\u001b[1;33m\u001b[0m\u001b[0m\n\u001b[0m\u001b[0;32m     80\u001b[0m \u001b[1;33m\u001b[0m\u001b[0m\n\u001b[0;32m     81\u001b[0m         \u001b[1;32mreturn\u001b[0m \u001b[0mResult\u001b[0m\u001b[1;33m.\u001b[0m\u001b[0mfrom_dict\u001b[0m\u001b[1;33m(\u001b[0m\u001b[0mresult_dict\u001b[0m\u001b[1;33m)\u001b[0m\u001b[1;33m\u001b[0m\u001b[1;33m\u001b[0m\u001b[0m\n",
      "\u001b[1;32m~\\Documents\\backends\\atomic_mixtures_backend\\cold_atom_job.py\u001b[0m in \u001b[0;36m_wait_for_result\u001b[1;34m(self, timeout, wait)\u001b[0m\n\u001b[0;32m     71\u001b[0m                 \u001b[1;32mraise\u001b[0m \u001b[0mJobError\u001b[0m\u001b[1;33m(\u001b[0m\u001b[1;34m'API returned error:\\n'\u001b[0m \u001b[1;33m+\u001b[0m \u001b[0mstr\u001b[0m\u001b[1;33m(\u001b[0m\u001b[0mresult\u001b[0m\u001b[1;33m)\u001b[0m\u001b[1;33m)\u001b[0m\u001b[1;33m\u001b[0m\u001b[1;33m\u001b[0m\u001b[0m\n\u001b[0;32m     72\u001b[0m             \u001b[0mprint\u001b[0m\u001b[1;33m(\u001b[0m\u001b[1;34m'completed cycle'\u001b[0m\u001b[1;33m)\u001b[0m\u001b[1;33m\u001b[0m\u001b[1;33m\u001b[0m\u001b[0m\n\u001b[1;32m---> 73\u001b[1;33m             \u001b[0mtime\u001b[0m\u001b[1;33m.\u001b[0m\u001b[0msleep\u001b[0m\u001b[1;33m(\u001b[0m\u001b[0mwait\u001b[0m\u001b[1;33m)\u001b[0m\u001b[1;33m\u001b[0m\u001b[1;33m\u001b[0m\u001b[0m\n\u001b[0m\u001b[0;32m     74\u001b[0m \u001b[1;33m\u001b[0m\u001b[0m\n\u001b[0;32m     75\u001b[0m         \u001b[1;32mreturn\u001b[0m \u001b[0mresult\u001b[0m\u001b[1;33m\u001b[0m\u001b[1;33m\u001b[0m\u001b[0m\n",
      "\u001b[1;31mKeyboardInterrupt\u001b[0m: "
     ]
    }
   ],
   "source": [
    "result = job.result()\n",
    "print(type(result))"
   ]
  },
  {
   "cell_type": "markdown",
   "metadata": {},
   "source": [
    "We can take a look at the dicitonary that the backend returned like this:"
   ]
  },
  {
   "cell_type": "code",
   "execution_count": 14,
   "metadata": {},
   "outputs": [
    {
     "name": "stdout",
     "output_type": "stream",
     "text": [
      "{'backend_name': 'cold_atom_mixtures',\n",
      " 'backend_version': '0.0.1',\n",
      " 'header': {},\n",
      " 'job_id': 'e7cc73b0-8c9a-11eb-835d-482ae31487c4',\n",
      " 'qobj_id': '1234',\n",
      " 'results': [{'data': {'memory': [[[90012.0, 9988.0], [5100.0, 4900.0]],\n",
      "                                  [[89900.0, 10100.0], [5000.0, 5000.0]],\n",
      "                                  [[90000.0, 10000.0], [5050.0, 4950.0]]]},\n",
      "              'header': {'name': 'experiment_0'},\n",
      "              'meas_level': 1,\n",
      "              'meas_return': 'single',\n",
      "              'shots': 3,\n",
      "              'success': True}],\n",
      " 'status': 'finished',\n",
      " 'success': 'true'}\n"
     ]
    }
   ],
   "source": [
    "result_dict = result.to_dict()\n",
    "pprint.pprint(result_dict)"
   ]
  },
  {
   "cell_type": "markdown",
   "metadata": {},
   "source": [
    "## VI: Processing the result\n",
    "\n",
    "The actual measurement datta is stored under the `results` key. In this case, the `meas_return` is single, so the data of each experimental shot is directly stored in `memory`. This can be directly accessed from the result object:"
   ]
  },
  {
   "cell_type": "code",
   "execution_count": 15,
   "metadata": {},
   "outputs": [
    {
     "name": "stdout",
     "output_type": "stream",
     "text": [
      "[[90012. +9988.j  5100. +4900.j]\n",
      " [89900.+10100.j  5000. +5000.j]\n",
      " [90000.+10000.j  5050. +4950.j]]\n"
     ]
    }
   ],
   "source": [
    "outcomes = result.get_memory()\n",
    "print(outcomes)"
   ]
  },
  {
   "cell_type": "markdown",
   "metadata": {},
   "source": [
    "The data above should serve as an example of how the measurement results for the NaLi experiment may be communicated. Each line is one experimental shot, where the first two numbers are the sodium atoms found in the two spin states, respectively, and the other two are the lithium numbers per spin state. \n",
    "\\\n",
    "They are currently cast into complex numbers internally, because this is how Qiskit processes the data it expects for `meas_level = 1`. \n",
    "\\\n",
    "In any case we can also directly access the outcome memory through the associated dictionary:"
   ]
  },
  {
   "cell_type": "code",
   "execution_count": 16,
   "metadata": {},
   "outputs": [
    {
     "name": "stdout",
     "output_type": "stream",
     "text": [
      "[[[90012.0, 9988.0], [5100.0, 4900.0]],\n",
      " [[89900.0, 10100.0], [5000.0, 5000.0]],\n",
      " [[90000.0, 10000.0], [5050.0, 4950.0]]]\n"
     ]
    }
   ],
   "source": [
    "pprint.pprint(result_dict['results'][0]['data']['memory'])"
   ]
  },
  {
   "cell_type": "code",
   "execution_count": null,
   "metadata": {},
   "outputs": [],
   "source": []
  }
 ],
 "metadata": {
  "kernelspec": {
   "display_name": "Python 3",
   "language": "python",
   "name": "python3"
  },
  "language_info": {
   "codemirror_mode": {
    "name": "ipython",
    "version": 3
   },
   "file_extension": ".py",
   "mimetype": "text/x-python",
   "name": "python",
   "nbconvert_exporter": "python",
   "pygments_lexer": "ipython3",
   "version": "3.9.2"
  }
 },
 "nbformat": 4,
 "nbformat_minor": 4
}
