{
 cells [
  {
   cell_type code,
   execution_count null,
   metadata {},
   outputs [],
   source [
    import jsonn,
    import requests
   ]
  },
  {
   cell_type markdown,
   metadata {},
   source [
    ## Get config
   ]
  },
  {
   cell_type code,
   execution_count null,
   metadata {},
   outputs [],
   source [
    url=httplocalhost9000shotsget_confign,
    n,
    r = requests.get(url)n,
    n,
    print(r.text)n,
    #print(r.content)
   ]
  },
  {
   cell_type markdown,
   metadata {},
   source [
    ## Submit jobs
   ]
  },
  {
   cell_type raw,
   metadata {},
   source [
    '''job_payload = {n,
        'experiment_0' {n,
            'instructions' [n,
                ('rx', [0], [0.7]),n,
                ('delay', [0, 1], [20]),n,
                ('measure', [0], []),n,
                ('measure', [1], [])n,
            ],n,
            'num_wires' 2,n,
            'shots' 3n,
        },n,
        'user_id''rohitp'n,
     }'''
   ]
  },
  {
   cell_type code,
   execution_count null,
   metadata {},
   outputs [],
   source [
    job_payload = {n,
        'experiment_0' {n,
            'instructions' [n,
                ('rx', [0], [0.7]),n,
                ('delay', [0, 1], [20]),n,
                ('measure', [0], []),n,
                ('measure', [1], [])n,
            ],n,
            'num_wires' 2,n,
            'shots' 3n,
        },n,
     }
   ]
  },
  {
   cell_type code,
   execution_count null,
   metadata {},
   outputs [],
   source [
    url=httplocalhost9000shotspost_jobn,
    n,
    job_response = requests.post(url, data={'json'json.dumps(job_payload)})n,
    n,
    print(job_response.text)
   ]
  },
  {
   cell_type code,
   execution_count null,
   metadata {},
   outputs [],
   source [
    job_id = (job_response.json())['job_id']
   ]
  },
  {
   cell_type markdown,
   metadata {},
   source [
    ## Get job status
   ]
  },
  {
   cell_type code,
   execution_count null,
   metadata {},
   outputs [],
   source [
    status_payload = {'job_id' job_id}n,
    url=httplocalhost9000shotsget_job_statusn,
    n,
    status_response = requests.get(url,  params={'json'json.dumps(status_payload)})n,
    n,
    print(status_response.text)
   ]
  },
  {
   cell_type markdown,
   metadata {},
   source [
    ## Get job results
   ]
  },
  {
   cell_type code,
   execution_count null,
   metadata {
    scrolled true
   },
   outputs [],
   source [
    result_payload = {'job_id' job_id}n,
    url=httplocalhost9000shotsget_job_resultn,
    n,
    result_response = requests.get(url,  params={'json'json.dumps(result_payload)})n,
    n,
    print(result_response.text)
   ]
  },
  {
   cell_type code,
   execution_count null,
   metadata {},
   outputs [],
   source []
  }
 ],
 metadata {
  kernelspec {
   display_name Python 3,
   language python,
   name python3
  },
  language_info {
   codemirror_mode {
    name ipython,
    version 3
   },
   file_extension .py,
   mimetype textx-python,
   name python,
   nbconvert_exporter python,
   pygments_lexer ipython3,
   version 3.8.5
  }
 },
 nbformat 4,
 nbformat_minor 4
}