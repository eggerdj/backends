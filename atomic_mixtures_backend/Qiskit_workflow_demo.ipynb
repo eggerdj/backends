{
 "cells": [
  {
   "cell_type": "markdown",
   "metadata": {},
   "source": [
    "## Cold Atom integration into Qiskit demo notebook\n",
    "\n",
    "In this notebook we will explore the typical workflow of how a user can communicate with a remote backend in Qiskit in the context of cold atom experiments.\n",
    "\n",
    "A schematic of this is shown in the figure below. Red parts in the pseudocode highlight new classes and functionalities which we showcase in this notebook while yellow indicates where we can use existing classes from Qiskit without further modification. \n",
    "\\\n",
    "Blue dashed arrows indicate all points where requests are sent form the user to the backend url, while green dashed arrows symbolise the response to those requests. The remote backend in the diagram is simulated here with a mock API built in flask running on the localhost. This API needs to run in the background via `python flask_cold_atom_api.py` in order to execute the cells in this notebook.\n",
    "\\\n",
    "A simple pip install qiskit should install all the required packages from Qiskit.\n",
    "\n",
    "![](workflow_overview.png )\n",
    "\n"
   ]
  },
  {
   "cell_type": "markdown",
   "metadata": {},
   "source": [
    "## I: Loading the backend\n",
    "\n",
    "Let's first import the provider which manages the access to the backends. We print the list of available backends. "
   ]
  },
  {
   "cell_type": "code",
   "execution_count": 1,
   "metadata": {},
   "outputs": [
    {
     "name": "stdout",
     "output_type": "stream",
     "text": [
      "[<AtomicMixtureSimulator('atomic_mixtures_meanfield_simulator')>, <AtomicMixtureDevice('cold_atom_mixtures')>, <CoherentSpinsDevice('cold_atom_spins')>, <CoherentSpinsQubits('coherent_spin_qubits')>]\n"
     ]
    }
   ],
   "source": [
    "from cold_atom_provider import ColdAtomProvider \n",
    "\n",
    "provider = ColdAtomProvider('token')\n",
    "backend_list = provider.backends() \n",
    "\n",
    "print(backend_list)"
   ]
  },
  {
   "cell_type": "markdown",
   "metadata": {},
   "source": [
    "We select the `AtomicMixtureDevice` backend and take a look at the configuration of this backend:"
   ]
  },
  {
   "cell_type": "code",
   "execution_count": 2,
   "metadata": {},
   "outputs": [
    {
     "name": "stdout",
     "output_type": "stream",
     "text": [
      "{'atomic_species': ['na', 'li'],\n",
      " 'backend_name': 'cold_atom_mixtures',\n",
      " 'backend_version': '0.0.1',\n",
      " 'basis_gates': ['rx', 'delay'],\n",
      " 'conditional': False,\n",
      " 'coupling_map': [[0, 1]],\n",
      " 'credits_required': False,\n",
      " 'description': 'Setup of an atomic mixtures experiment with one     trapping '\n",
      "                'site and two atomic species, namely Na and Li.',\n",
      " 'dynamic_reprate_enabled': False,\n",
      " 'gates': [{'coupling_map': [[0, 1]],\n",
      "            'description': 'evolution under SCC Hamiltonian for time tau',\n",
      "            'name': 'delay',\n",
      "            'parameters': ['tau', 'delta'],\n",
      "            'qasm_def': 'gate delay(tau, delta) {}'},\n",
      "           {'coupling_map': [[0]],\n",
      "            'description': 'Rotation of the sodium spin',\n",
      "            'name': 'rx',\n",
      "            'parameters': ['theta'],\n",
      "            'qasm_def': 'gate rx(theta) {}'}],\n",
      " 'local': False,\n",
      " 'max_experiments': 3,\n",
      " 'max_shots': 60,\n",
      " 'memory': True,\n",
      " 'n_qubits': 2,\n",
      " 'open_pulse': False,\n",
      " 'simulator': False,\n",
      " 'supported_instructions': ['delay', 'rx', 'measure', 'barrier'],\n",
      " 'url': 'http://127.0.0.1:5000/mixtures'}\n"
     ]
    }
   ],
   "source": [
    "backend = provider.get_backend('cold_atom_mixtures')\n",
    "config_dict = backend.configuration().to_dict()\n",
    "\n",
    "import pprint\n",
    "pprint.pprint(config_dict)"
   ]
  },
  {
   "cell_type": "code",
   "execution_count": 16,
   "metadata": {},
   "outputs": [
    {
     "name": "stdout",
     "output_type": "stream",
     "text": [
      "<class 'bosonic_backends.AtomicMixtureDevice'>\n",
      "token\n"
     ]
    }
   ],
   "source": [
    "print(type(backend))\n",
    "\n",
    "print(backend.access_token)"
   ]
  },
  {
   "cell_type": "markdown",
   "metadata": {},
   "source": [
    "This configuration file tells us all we need to know about the backend. In particular, it communicates to the user which gate instruction it will accept in a circuit, how many wires the circuit can have etc. We also see that it is currently running on the localhost."
   ]
  },
  {
   "cell_type": "markdown",
   "metadata": {},
   "source": [
    "## II: Building the quantum circuit\n",
    "\n",
    "Here we demostrate how to build a quantum circuit for a cold atom device using the cold atom gate library and the `get_empty_circuit` method of the backend. This empty circuit will be initialized with the correct quantum and classical registers for the backend device. In this case, there is one wire for the sodium state, one wire for the lithium state and two classical wires for the two measurement outcomes."
   ]
  },
  {
   "cell_type": "code",
   "execution_count": 4,
   "metadata": {},
   "outputs": [
    {
     "name": "stdout",
     "output_type": "stream",
     "text": [
      "Quantum registers in the circuit:  [QuantumRegister(1, 'na'), QuantumRegister(1, 'li')]\n",
      "Classical registers in the circuit:  [ClassicalRegister(2, 'c2')]\n"
     ]
    },
    {
     "data": {
      "text/html": [
       "<pre style=\"word-wrap: normal;white-space: pre;background: #fff0;line-height: 1.1;font-family: &quot;Courier New&quot;,Courier,monospace\">      \n",
       "na_0: \n",
       "      \n",
       "li_0: \n",
       "      \n",
       "c2: 2/\n",
       "      </pre>"
      ],
      "text/plain": [
       "      \n",
       "na_0: \n",
       "      \n",
       "li_0: \n",
       "      \n",
       "c2: 2/\n",
       "      "
      ]
     },
     "execution_count": 4,
     "metadata": {},
     "output_type": "execute_result"
    }
   ],
   "source": [
    "circuit = backend.get_empty_circuit()\n",
    "\n",
    "print(\"Quantum registers in the circuit: \", circuit.qregs)\n",
    "print(\"Classical registers in the circuit: \", circuit.cregs)\n",
    "circuit.draw()"
   ]
  },
  {
   "cell_type": "code",
   "execution_count": 5,
   "metadata": {},
   "outputs": [
    {
     "name": "stdout",
     "output_type": "stream",
     "text": [
      "<class 'qiskit.circuit.quantumcircuit.QuantumCircuit'>\n"
     ]
    }
   ],
   "source": [
    "print(type(circuit))"
   ]
  },
  {
   "cell_type": "markdown",
   "metadata": {},
   "source": [
    "We can now add gates from the library to this empty circuit and use qiskits `.draw` method for now. We aim to implement our own circuit drawer that more nicely differentiates between the two atomic species. "
   ]
  },
  {
   "cell_type": "code",
   "execution_count": 6,
   "metadata": {},
   "outputs": [
    {
     "data": {
      "image/png": "[encoded data removed]",
      "text/plain": [
       "<Figure size 400.142x204.68 with 1 Axes>"
      ]
     },
     "execution_count": 6,
     "metadata": {},
     "output_type": "execute_result"
    }
   ],
   "source": [
    "from circuit_library import MixturesRXGate, MixturesSCCdrift\n",
    "\n",
    "circuit.append(MixturesRXGate(theta=0.7), qargs=[0])\n",
    "circuit.append(MixturesSCCdrift(num_wires=2, tau=20) , qargs=[0, 1])\n",
    "\n",
    "circuit.measure([0,1], circuit.cregs[0])\n",
    "circuit.draw(output = 'mpl')"
   ]
  },
  {
   "cell_type": "markdown",
   "metadata": {},
   "source": [
    "This circuit can be converted into a Json payload that is sent to the backend server with the `circuit_to_cold_atom` method:"
   ]
  },
  {
   "cell_type": "code",
   "execution_count": 7,
   "metadata": {},
   "outputs": [
    {
     "name": "stdout",
     "output_type": "stream",
     "text": [
      "{'experiment_0': {'instructions': [('rx', [0], [0.7]),\n",
      "                                   ('delay', [0, 1], [20.0]),\n",
      "                                   ('measure', [0], []),\n",
      "                                   ('measure', [1], [])],\n",
      "                  'num_wires': 2,\n",
      "                  'shots': 60}}\n"
     ]
    }
   ],
   "source": [
    "from circuit_to_cold_atom import circuit_to_cold_atom\n",
    "\n",
    "pprint.pprint(circuit_to_cold_atom(circuit, backend))"
   ]
  },
  {
   "cell_type": "markdown",
   "metadata": {},
   "source": [
    "Under the `data` key, there is now a tuple for each instruction in the circuit. The first element is the name of that instruction, while the second element lists the indices of the wires that the instruction acts on. These are the total idices in the circuit, not the indices of the respective `QuantumRegister` (which would be all 0 here). The last element of that tuple gives the value of the prameters of that instruction (if any). "
   ]
  },
  {
   "cell_type": "markdown",
   "metadata": {},
   "source": [
    "This function will complain if the gates used do not match the backend. Let's try to add a gate that is not support, such as the Hadamard gate:"
   ]
  },
  {
   "cell_type": "code",
   "execution_count": 8,
   "metadata": {},
   "outputs": [
    {
     "data": {
      "text/plain": [
       "<qiskit.circuit.instructionset.InstructionSet at 0x1a0da9581f0>"
      ]
     },
     "execution_count": 8,
     "metadata": {},
     "output_type": "execute_result"
    }
   ],
   "source": [
    "circuit_wrong = backend.get_empty_circuit()\n",
    "\n",
    "circuit_wrong.h(0)\n",
    "\n",
    "# uncommenting this will create an error\n",
    "# circuit_to_cold_atom(circuit_wrong, backend)"
   ]
  },
  {
   "cell_type": "markdown",
   "metadata": {},
   "source": [
    "This function also catches whether all applied gates match the coupling map of these gates on the backend:"
   ]
  },
  {
   "cell_type": "code",
   "execution_count": 9,
   "metadata": {},
   "outputs": [
    {
     "data": {
      "text/plain": [
       "<qiskit.circuit.instructionset.InstructionSet at 0x1a0da958ca0>"
      ]
     },
     "execution_count": 9,
     "metadata": {},
     "output_type": "execute_result"
    }
   ],
   "source": [
    "circuit_wrong_2 = backend.get_empty_circuit()\n",
    "\n",
    "circuit_wrong_2.append(MixturesRXGate(theta=0.7), qargs=[1])\n",
    "\n",
    "# Uncommenting this will create an error:\n",
    "# circuit_to_cold_atom(circuit_wrong_2, backend)"
   ]
  },
  {
   "cell_type": "markdown",
   "metadata": {},
   "source": [
    "## III. Sending the circuit to the backend\n",
    "\n",
    "We can now send this circuit to the backend. This creates a `ColdAtomJob` object. "
   ]
  },
  {
   "cell_type": "code",
   "execution_count": 10,
   "metadata": {},
   "outputs": [
    {
     "name": "stdout",
     "output_type": "stream",
     "text": [
      "<class 'cold_atom_job.ColdAtomJob'>\n"
     ]
    }
   ],
   "source": [
    "job = backend.run(circuit)\n",
    "print(type(job))"
   ]
  },
  {
   "cell_type": "markdown",
   "metadata": {},
   "source": [
    "The backend has created a `job_id`, which serves as a unique identifier for this job:"
   ]
  },
  {
   "cell_type": "code",
   "execution_count": 11,
   "metadata": {},
   "outputs": [
    {
     "name": "stdout",
     "output_type": "stream",
     "text": [
      "0732b268-8d70-11eb-9912-482ae31487c4\n"
     ]
    }
   ],
   "source": [
    "print(job._job_id)"
   ]
  },
  {
   "cell_type": "markdown",
   "metadata": {},
   "source": [
    "## IV: Checking for status \n",
    "\n",
    "In a realistic setting, the backend would now place this job in a queue, where it is stored until its execution. \n",
    "The backend does not automatically return the measurement result to the user.\n",
    "Rather it is the user that has to make all requests. \n",
    "\n",
    "To check whether the job has finished, is running, or placed in the queue, Qiskit provides a `status` function:"
   ]
  },
  {
   "cell_type": "code",
   "execution_count": 12,
   "metadata": {},
   "outputs": [
    {
     "name": "stdout",
     "output_type": "stream",
     "text": [
      "<Response [200]>\n",
      "200\n",
      "JobStatus.DONE\n"
     ]
    }
   ],
   "source": [
    "print(job.status())"
   ]
  },
  {
   "cell_type": "markdown",
   "metadata": {},
   "source": [
    "In our case, the circuit is not actually processed further, rather in this example the backend just directly returns a generic result and status as done.  "
   ]
  },
  {
   "cell_type": "markdown",
   "metadata": {},
   "source": [
    "## V: Retrieving the result from the backend\n",
    "\n",
    "To access the results of our circuit, we have to ask the backend for it. Internally the backend checks the `job_id` of the job and looks up the stored measurement outcomes. The backend then returns a Json dictionary which includes all information about the measurements and is turned into a `Qiskit.Result` object:"
   ]
  },
  {
   "cell_type": "code",
   "execution_count": 13,
   "metadata": {},
   "outputs": [
    {
     "name": "stdout",
     "output_type": "stream",
     "text": [
      "<class 'qiskit.result.result.Result'>\n"
     ]
    }
   ],
   "source": [
    "result = job.result()\n",
    "print(type(result))"
   ]
  },
  {
   "cell_type": "markdown",
   "metadata": {},
   "source": [
    "We can take a look at the dicitonary that the backend returned like this:"
   ]
  },
  {
   "cell_type": "code",
   "execution_count": 14,
   "metadata": {},
   "outputs": [
    {
     "name": "stdout",
     "output_type": "stream",
     "text": [
      "{'backend_name': 'cold_atom_mixtures',\n",
      " 'backend_version': '0.0.1',\n",
      " 'header': {},\n",
      " 'job_id': 'e7cc73b0-8c9a-11eb-835d-482ae31487c4',\n",
      " 'qobj_id': '1234',\n",
      " 'results': [{'data': {'memory': [[[90012.0, 9988.0], [5100.0, 4900.0]],\n",
      "                                  [[89900.0, 10100.0], [5000.0, 5000.0]],\n",
      "                                  [[90000.0, 10000.0], [5050.0, 4950.0]]]},\n",
      "              'header': {'name': 'experiment_0'},\n",
      "              'meas_level': 1,\n",
      "              'meas_return': 'single',\n",
      "              'shots': 3,\n",
      "              'success': True}],\n",
      " 'status': 'finished',\n",
      " 'success': 'true'}\n"
     ]
    }
   ],
   "source": [
    "result_dict = result.to_dict()\n",
    "pprint.pprint(result_dict)"
   ]
  },
  {
   "cell_type": "markdown",
   "metadata": {},
   "source": [
    "## VI: Processing the result\n",
    "\n",
    "The actual measurement datta is stored under the `results` key. In this case, the `meas_return` is single, so the data of each experimental shot is directly stored in `memory`. This can be directly accessed from the result object:"
   ]
  },
  {
   "cell_type": "code",
   "execution_count": 15,
   "metadata": {},
   "outputs": [
    {
     "name": "stdout",
     "output_type": "stream",
     "text": [
      "[[90012. +9988.j  5100. +4900.j]\n",
      " [89900.+10100.j  5000. +5000.j]\n",
      " [90000.+10000.j  5050. +4950.j]]\n"
     ]
    }
   ],
   "source": [
    "outcomes = result.get_memory()\n",
    "print(outcomes)"
   ]
  },
  {
   "cell_type": "markdown",
   "metadata": {},
   "source": [
    "The data above should serve as an example of how the measurement results for the NaLi experiment may be communicated. Each line is one experimental shot, where the first two numbers are the sodium atoms found in the two spin states, respectively, and the other two are the lithium numbers per spin state. \n",
    "\\\n",
    "They are currently cast into complex numbers internally, because this is how Qiskit processes the data it expects for `meas_level = 1`. \n",
    "\\\n",
    "In any case we can also directly access the outcome memory through the associated dictionary:"
   ]
  },
  {
   "cell_type": "code",
   "execution_count": 16,
   "metadata": {},
   "outputs": [
    {
     "name": "stdout",
     "output_type": "stream",
     "text": [
      "[[[90012.0, 9988.0], [5100.0, 4900.0]],\n",
      " [[89900.0, 10100.0], [5000.0, 5000.0]],\n",
      " [[90000.0, 10000.0], [5050.0, 4950.0]]]\n"
     ]
    }
   ],
   "source": [
    "pprint.pprint(result_dict['results'][0]['data']['memory'])"
   ]
  },
  {
   "cell_type": "code",
   "execution_count": null,
   "metadata": {},
   "outputs": [],
   "source": []
  }
 ],
 "metadata": {
  "kernelspec": {
   "display_name": "Python 3",
   "language": "python",
   "name": "python3"
  },
  "language_info": {
   "codemirror_mode": {
    "name": "ipython",
    "version": 3
   },
   "file_extension": ".py",
   "mimetype": "text/x-python",
   "name": "python",
   "nbconvert_exporter": "python",
   "pygments_lexer": "ipython3",
   "version": "3.9.2"
  }
 },
 "nbformat": 4,
 "nbformat_minor": 4
}
