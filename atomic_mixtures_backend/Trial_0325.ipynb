{
 "cells": [
  {
   "cell_type": "code",
   "execution_count": 2,
   "id": "nervous-handle",
   "metadata": {},
   "outputs": [
    {
     "name": "stdout",
     "output_type": "stream",
     "text": [
      "[<CoherentSpinsDevice('SYNQS_NaLi_spins_backend')>]\n"
     ]
    }
   ],
   "source": [
    "from cold_atom_provider import ColdAtomProvider \n",
    "\n",
    "provider = ColdAtomProvider('')\n",
    "backend_list = provider.backends() \n",
    "\n",
    "print(backend_list)"
   ]
  },
  {
   "cell_type": "code",
   "execution_count": null,
   "id": "legendary-queen",
   "metadata": {},
   "outputs": [],
   "source": []
  },
  {
   "cell_type": "code",
   "execution_count": 3,
   "id": "ultimate-accordance",
   "metadata": {},
   "outputs": [
    {
     "name": "stdout",
     "output_type": "stream",
     "text": [
      "here\n",
      "token\n",
      "{'atomic_species': ['na'],\n",
      " 'backend_name': 'SYNQS_NaLi_spins_backend',\n",
      " 'backend_version': '0.0.1',\n",
      " 'basis_gates': ['rLx', 'rLz', 'rLz2'],\n",
      " 'conditional': False,\n",
      " 'coupling_map': [[]],\n",
      " 'credits_required': False,\n",
      " 'description': 'Setup of a cold atomic mixtures experiment with qudits.',\n",
      " 'display_name': 'NaLi',\n",
      " 'dynamic_reprate_enabled': False,\n",
      " 'gates': [{'coupling_map': [[0], [1], [2], [3], [4]],\n",
      "            'description': 'Evolution under the Z gate',\n",
      "            'name': 'rLz',\n",
      "            'parameters': ['delta'],\n",
      "            'qasm_def': 'gate rLz(delta) {}'},\n",
      "           {'coupling_map': [[0], [1], [2], [3], [4]],\n",
      "            'description': 'Evolution under the Z2 gate',\n",
      "            'name': 'rLz2',\n",
      "            'parameters': ['chi'],\n",
      "            'qasm_def': 'gate rLz2(chi) {}'},\n",
      "           {'coupling_map': [[0], [1], [2], [3], [4]],\n",
      "            'description': 'Evolution under the X gate',\n",
      "            'name': 'rLx',\n",
      "            'parameters': ['omega'],\n",
      "            'qasm_def': 'gate rx(omega) {}'}],\n",
      " 'local': False,\n",
      " 'max_experiments': 3,\n",
      " 'max_shots': 60,\n",
      " 'memory': True,\n",
      " 'n_qubits': 5,\n",
      " 'open_pulse': False,\n",
      " 'simulator': False,\n",
      " 'supported_instructions': ['delay',\n",
      "                            'rLx',\n",
      "                            'rLz',\n",
      "                            'rLz2',\n",
      "                            'measure',\n",
      "                            'barrier'],\n",
      " 'url': 'http://localhost:9000/shots/'}\n"
     ]
    }
   ],
   "source": [
    "from bosonic_backends import CoherentSpinsDevice\n",
    "from cold_atom_provider import ColdAtomProvider \n",
    "\n",
    "print('here')\n",
    "provider = ColdAtomProvider('token')\n",
    "\n",
    "backend = CoherentSpinsDevice(provider)\n",
    "\n",
    "# backend = provider.get_backend('SoPa_atomic_mixtures')\n",
    "config_dict = backend.configuration().to_dict()\n",
    "\n",
    "print(backend.access_token)\n",
    "\n",
    "import pprint\n",
    "pprint.pprint(config_dict)"
   ]
  },
  {
   "cell_type": "code",
   "execution_count": 3,
   "id": "defined-productivity",
   "metadata": {},
   "outputs": [
    {
     "name": "stdout",
     "output_type": "stream",
     "text": [
      "Quantum registers in the circuit:  [QuantumRegister(1, 'na'), QuantumRegister(1, 'k')]\n",
      "Classical registers in the circuit:  [ClassicalRegister(2, 'c2')]\n"
     ]
    },
    {
     "data": {
      "text/html": [
       "<pre style=\"word-wrap: normal;white-space: pre;background: #fff0;line-height: 1.1;font-family: &quot;Courier New&quot;,Courier,monospace\">      \n",
       "na_0: \n",
       "      \n",
       " k_0: \n",
       "      \n",
       "c2: 2/\n",
       "      </pre>"
      ],
      "text/plain": [
       "      \n",
       "na_0: \n",
       "      \n",
       " k_0: \n",
       "      \n",
       "c2: 2/\n",
       "      "
      ]
     },
     "execution_count": 3,
     "metadata": {},
     "output_type": "execute_result"
    }
   ],
   "source": [
    "circuit = backend.get_empty_circuit()\n",
    "\n",
    "print(\"Quantum registers in the circuit: \", circuit.qregs)\n",
    "print(\"Classical registers in the circuit: \", circuit.cregs)\n",
    "circuit.draw()"
   ]
  },
  {
   "cell_type": "code",
   "execution_count": 4,
   "id": "detected-julian",
   "metadata": {},
   "outputs": [
    {
     "data": {
      "image/png": "[encoded data removed]",
      "text/plain": [
       "<Figure size 357.679x264.88 with 1 Axes>"
      ]
     },
     "execution_count": 4,
     "metadata": {},
     "output_type": "execute_result"
    }
   ],
   "source": [
    "from gate_library import SpinsRXGate, SpinsRZGate\n",
    "\n",
    "from qiskit.circuit.library.standard_gates.rx import RXGate\n",
    "import numpy as np\n",
    "\n",
    "circuit_list = []\n",
    "\n",
    "time_vals = np.linspace(0, 2*np.pi, 20)\n",
    "\n",
    "for i, time in enumerate(time_vals):\n",
    "    circuit = backend.get_empty_circuit()\n",
    "    \n",
    "    circuit.append(RXGate(time), qargs=[0])\n",
    "#     circuit.append(SpinsRZGate(delta=time), qargs=[1])\n",
    "    \n",
    "    \n",
    "    circuit.measure_all()\n",
    "    circuit_list.append(circuit)\n",
    "\n",
    "circuit.draw(output = 'mpl')"
   ]
  },
  {
   "cell_type": "code",
   "execution_count": 5,
   "id": "funny-helmet",
   "metadata": {},
   "outputs": [],
   "source": [
    "job = backend.run(circuit_list)"
   ]
  },
  {
   "cell_type": "code",
   "execution_count": 6,
   "id": "artificial-palmer",
   "metadata": {},
   "outputs": [
    {
     "name": "stdout",
     "output_type": "stream",
     "text": [
      "20210407_092850_d55fb\n",
      "<Response [200]>\n",
      "200\n",
      "INITIALIZING\n"
     ]
    }
   ],
   "source": [
    "print(job.job_id())\n",
    "print(job.status())"
   ]
  },
  {
   "cell_type": "code",
   "execution_count": 7,
   "id": "extended-bidding",
   "metadata": {},
   "outputs": [
    {
     "name": "stdout",
     "output_type": "stream",
     "text": [
      "completed cycle\n",
      "completed cycle\n",
      "completed cycle\n"
     ]
    },
    {
     "ename": "JobTimeoutError",
     "evalue": "'Timed out waiting for result'",
     "output_type": "error",
     "traceback": [
      "\u001b[1;31m---------------------------------------------------------------------------\u001b[0m",
      "\u001b[1;31mJobTimeoutError\u001b[0m                           Traceback (most recent call last)",
      "\u001b[1;32m<ipython-input-7-b3668c94d4f2>\u001b[0m in \u001b[0;36m<module>\u001b[1;34m\u001b[0m\n\u001b[1;32m----> 1\u001b[1;33m \u001b[0mresult\u001b[0m \u001b[1;33m=\u001b[0m \u001b[0mjob\u001b[0m\u001b[1;33m.\u001b[0m\u001b[0mresult\u001b[0m\u001b[1;33m(\u001b[0m\u001b[0mtimeout\u001b[0m\u001b[1;33m=\u001b[0m\u001b[1;36m20\u001b[0m\u001b[1;33m)\u001b[0m\u001b[1;33m\u001b[0m\u001b[1;33m\u001b[0m\u001b[0m\n\u001b[0m\u001b[0;32m      2\u001b[0m \u001b[1;33m\u001b[0m\u001b[0m\n\u001b[0;32m      3\u001b[0m \u001b[0mprint\u001b[0m\u001b[1;33m(\u001b[0m\u001b[0mresult\u001b[0m\u001b[1;33m)\u001b[0m\u001b[1;33m\u001b[0m\u001b[1;33m\u001b[0m\u001b[0m\n",
      "\u001b[1;32m~\\Documents\\backends\\atomic_mixtures_backend\\cold_atom_job.py\u001b[0m in \u001b[0;36mresult\u001b[1;34m(self, timeout, wait)\u001b[0m\n\u001b[0;32m     77\u001b[0m     \u001b[1;32mdef\u001b[0m \u001b[0mresult\u001b[0m\u001b[1;33m(\u001b[0m\u001b[0mself\u001b[0m\u001b[1;33m,\u001b[0m \u001b[0mtimeout\u001b[0m\u001b[1;33m:\u001b[0m \u001b[0mfloat\u001b[0m \u001b[1;33m=\u001b[0m \u001b[1;32mNone\u001b[0m\u001b[1;33m,\u001b[0m \u001b[0mwait\u001b[0m\u001b[1;33m:\u001b[0m \u001b[0mfloat\u001b[0m \u001b[1;33m=\u001b[0m \u001b[1;36m5.0\u001b[0m\u001b[1;33m)\u001b[0m \u001b[1;33m->\u001b[0m \u001b[0mResult\u001b[0m\u001b[1;33m:\u001b[0m\u001b[1;33m\u001b[0m\u001b[1;33m\u001b[0m\u001b[0m\n\u001b[0;32m     78\u001b[0m         \u001b[1;34m\"\"\"Retrieve a result from the backend.\"\"\"\u001b[0m\u001b[1;33m\u001b[0m\u001b[1;33m\u001b[0m\u001b[0m\n\u001b[1;32m---> 79\u001b[1;33m         \u001b[0mresult_dict\u001b[0m \u001b[1;33m=\u001b[0m \u001b[0mself\u001b[0m\u001b[1;33m.\u001b[0m\u001b[0m_wait_for_result\u001b[0m\u001b[1;33m(\u001b[0m\u001b[0mtimeout\u001b[0m\u001b[1;33m,\u001b[0m \u001b[0mwait\u001b[0m\u001b[1;33m=\u001b[0m\u001b[0mwait\u001b[0m\u001b[1;33m)\u001b[0m\u001b[1;33m\u001b[0m\u001b[1;33m\u001b[0m\u001b[0m\n\u001b[0m\u001b[0;32m     80\u001b[0m \u001b[1;33m\u001b[0m\u001b[0m\n\u001b[0;32m     81\u001b[0m         \u001b[1;32mreturn\u001b[0m \u001b[0mResult\u001b[0m\u001b[1;33m.\u001b[0m\u001b[0mfrom_dict\u001b[0m\u001b[1;33m(\u001b[0m\u001b[0mresult_dict\u001b[0m\u001b[1;33m)\u001b[0m\u001b[1;33m\u001b[0m\u001b[1;33m\u001b[0m\u001b[0m\n",
      "\u001b[1;32m~\\Documents\\backends\\atomic_mixtures_backend\\cold_atom_job.py\u001b[0m in \u001b[0;36m_wait_for_result\u001b[1;34m(self, timeout, wait)\u001b[0m\n\u001b[0;32m     61\u001b[0m             \u001b[0melapsed\u001b[0m \u001b[1;33m=\u001b[0m \u001b[0mtime\u001b[0m\u001b[1;33m.\u001b[0m\u001b[0mtime\u001b[0m\u001b[1;33m(\u001b[0m\u001b[1;33m)\u001b[0m \u001b[1;33m-\u001b[0m \u001b[0mstart_time\u001b[0m\u001b[1;33m\u001b[0m\u001b[1;33m\u001b[0m\u001b[0m\n\u001b[0;32m     62\u001b[0m             \u001b[1;32mif\u001b[0m \u001b[0mtimeout\u001b[0m \u001b[1;32mand\u001b[0m \u001b[0melapsed\u001b[0m \u001b[1;33m>=\u001b[0m \u001b[0mtimeout\u001b[0m\u001b[1;33m:\u001b[0m\u001b[1;33m\u001b[0m\u001b[1;33m\u001b[0m\u001b[0m\n\u001b[1;32m---> 63\u001b[1;33m                 \u001b[1;32mraise\u001b[0m \u001b[0mJobTimeoutError\u001b[0m\u001b[1;33m(\u001b[0m\u001b[1;34m'Timed out waiting for result'\u001b[0m\u001b[1;33m)\u001b[0m\u001b[1;33m\u001b[0m\u001b[1;33m\u001b[0m\u001b[0m\n\u001b[0m\u001b[0;32m     64\u001b[0m \u001b[1;33m\u001b[0m\u001b[0m\n\u001b[0;32m     65\u001b[0m             \u001b[0mparams\u001b[0m \u001b[1;33m=\u001b[0m \u001b[1;33m{\u001b[0m\u001b[1;34m'job_id'\u001b[0m\u001b[1;33m:\u001b[0m \u001b[0mself\u001b[0m\u001b[1;33m.\u001b[0m\u001b[0m_job_id\u001b[0m\u001b[1;33m,\u001b[0m \u001b[1;34m'access_token'\u001b[0m\u001b[1;33m:\u001b[0m \u001b[0mtoken\u001b[0m\u001b[1;33m}\u001b[0m\u001b[1;33m\u001b[0m\u001b[1;33m\u001b[0m\u001b[0m\n",
      "\u001b[1;31mJobTimeoutError\u001b[0m: 'Timed out waiting for result'"
     ]
    }
   ],
   "source": [
    "result = job.result(timeout=20)\n",
    "\n",
    "print(result)"
   ]
  },
  {
   "cell_type": "code",
   "execution_count": null,
   "id": "opponent-array",
   "metadata": {},
   "outputs": [],
   "source": [
    "result_dict = result.to_dict()\n",
    "pprint.pprint(result_dict)"
   ]
  },
  {
   "cell_type": "code",
   "execution_count": 9,
   "id": "extraordinary-holocaust",
   "metadata": {},
   "outputs": [
    {
     "name": "stdout",
     "output_type": "stream",
     "text": [
      "INITIALIZING\n"
     ]
    }
   ],
   "source": [
    "print(job.status())"
   ]
  },
  {
   "cell_type": "code",
   "execution_count": null,
   "id": "prepared-beauty",
   "metadata": {},
   "outputs": [],
   "source": []
  }
 ],
 "metadata": {
  "kernelspec": {
   "display_name": "Python 3",
   "language": "python",
   "name": "python3"
  },
  "language_info": {
   "codemirror_mode": {
    "name": "ipython",
    "version": 3
   },
   "file_extension": ".py",
   "mimetype": "text/x-python",
   "name": "python",
   "nbconvert_exporter": "python",
   "pygments_lexer": "ipython3",
   "version": "3.9.2"
  }
 },
 "nbformat": 4,
 "nbformat_minor": 5
}
