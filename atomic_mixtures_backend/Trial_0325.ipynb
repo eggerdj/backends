{
 "cells": [
  {
   "cell_type": "code",
   "execution_count": 1,
   "id": "tired-hepatitis",
   "metadata": {},
   "outputs": [
    {
     "name": "stdout",
     "output_type": "stream",
     "text": [
      "[<CoherentSpinsDevice('SoPa_atomic_mixtures')>]\n"
     ]
    }
   ],
   "source": [
    "from cold_atom_provider import ColdAtomProvider \n",
    "\n",
    "provider = ColdAtomProvider('token')\n",
    "backend_list = provider.backends() \n",
    "\n",
    "print(backend_list)"
   ]
  },
  {
   "cell_type": "code",
   "execution_count": 2,
   "id": "through-storm",
   "metadata": {},
   "outputs": [
    {
     "name": "stdout",
     "output_type": "stream",
     "text": [
      "token\n",
      "{'atomic_species': ['na', 'k'],\n",
      " 'backend_name': 'SoPa_atomic_mixtures',\n",
      " 'backend_version': '0.0.1',\n",
      " 'basis_gates': ['delay', 'rx'],\n",
      " 'conditional': False,\n",
      " 'coupling_map': [[0, 1]],\n",
      " 'credits_required': False,\n",
      " 'description': 'Setup of an atomic mixtures experiment with one trapping site '\n",
      "                'and two atomic species, namely Na and K.',\n",
      " 'display_name': 'SoPa',\n",
      " 'dynamic_reprate_enabled': False,\n",
      " 'gates': [{'coupling_map': [[0, 1]],\n",
      "            'description': 'evolution under SCC Hamiltonian for time tau',\n",
      "            'name': 'delay',\n",
      "            'parameters': ['tau', 'delta'],\n",
      "            'qasm_def': 'gate delay(tau, delta) {}'},\n",
      "           {'coupling_map': [[0]],\n",
      "            'description': 'Rotation of the sodium spin',\n",
      "            'name': 'rx',\n",
      "            'parameters': ['theta'],\n",
      "            'qasm_def': 'gate rx(theta) {}'}],\n",
      " 'local': False,\n",
      " 'max_experiments': 3,\n",
      " 'max_shots': 60,\n",
      " 'memory': True,\n",
      " 'n_qubits': 2,\n",
      " 'online_date': 'Since_big_bang',\n",
      " 'open_pulse': False,\n",
      " 'simulator': False,\n",
      " 'supported_instructions': ['delay', 'rx', 'measure', 'barrier'],\n",
      " 'url': 'https://jendrzejewski.synqs.org/'}\n"
     ]
    }
   ],
   "source": [
    "backend = provider.get_backend('SoPa_atomic_mixtures')\n",
    "config_dict = backend.configuration().to_dict()\n",
    "\n",
    "print(backend.access_token)\n",
    "\n",
    "import pprint\n",
    "pprint.pprint(config_dict)"
   ]
  },
  {
   "cell_type": "code",
   "execution_count": 3,
   "id": "imperial-citizenship",
   "metadata": {},
   "outputs": [
    {
     "name": "stdout",
     "output_type": "stream",
     "text": [
      "Quantum registers in the circuit:  [QuantumRegister(1, 'na'), QuantumRegister(1, 'k')]\n",
      "Classical registers in the circuit:  [ClassicalRegister(2, 'c2')]\n"
     ]
    },
    {
     "data": {
      "text/html": [
       "<pre style=\"word-wrap: normal;white-space: pre;background: #fff0;line-height: 1.1;font-family: &quot;Courier New&quot;,Courier,monospace\">      \n",
       "na_0: \n",
       "      \n",
       " k_0: \n",
       "      \n",
       "c2: 2/\n",
       "      </pre>"
      ],
      "text/plain": [
       "      \n",
       "na_0: \n",
       "      \n",
       " k_0: \n",
       "      \n",
       "c2: 2/\n",
       "      "
      ]
     },
     "execution_count": 3,
     "metadata": {},
     "output_type": "execute_result"
    }
   ],
   "source": [
    "circuit = backend.get_empty_circuit()\n",
    "\n",
    "print(\"Quantum registers in the circuit: \", circuit.qregs)\n",
    "print(\"Classical registers in the circuit: \", circuit.cregs)\n",
    "circuit.draw()"
   ]
  },
  {
   "cell_type": "code",
   "execution_count": 10,
   "id": "universal-enough",
   "metadata": {},
   "outputs": [
    {
     "data": {
      "image/png": "[encoded data removed]",
      "text/plain": [
       "<Figure size 357.679x264.88 with 1 Axes>"
      ]
     },
     "execution_count": 10,
     "metadata": {},
     "output_type": "execute_result"
    }
   ],
   "source": [
    "from circuit_library import SpinsRXGate, SpinsRZGate\n",
    "import numpy as np\n",
    "\n",
    "circuit_list = []\n",
    "\n",
    "time_vals = np.linspace(0, 2*np.pi, 20)\n",
    "\n",
    "for i, time in enumerate(time_vals):\n",
    "    circuit = backend.get_empty_circuit()\n",
    "    \n",
    "    circuit.append(SpinsRXGate(omega=time), qargs=[0])\n",
    "    circuit.append(SpinsRZGate(delta=time), qargs=[1])\n",
    "    \n",
    "    \n",
    "    circuit.measure_all()\n",
    "    circuit_list.append(circuit)\n",
    "\n",
    "circuit.draw(output = 'mpl')"
   ]
  },
  {
   "cell_type": "code",
   "execution_count": 11,
   "id": "electric-taylor",
   "metadata": {},
   "outputs": [
    {
     "ename": "AssertionError",
     "evalue": "SoPa_atomic_mixtures does not support rz.",
     "output_type": "error",
     "traceback": [
      "\u001b[1;31m---------------------------------------------------------------------------\u001b[0m",
      "\u001b[1;31mAssertionError\u001b[0m                            Traceback (most recent call last)",
      "\u001b[1;32m<ipython-input-11-5bb6c32f9307>\u001b[0m in \u001b[0;36m<module>\u001b[1;34m\u001b[0m\n\u001b[1;32m----> 1\u001b[1;33m \u001b[0mjob\u001b[0m \u001b[1;33m=\u001b[0m \u001b[0mbackend\u001b[0m\u001b[1;33m.\u001b[0m\u001b[0mrun\u001b[0m\u001b[1;33m(\u001b[0m\u001b[0mcircuit_list\u001b[0m\u001b[1;33m)\u001b[0m\u001b[1;33m\u001b[0m\u001b[1;33m\u001b[0m\u001b[0m\n\u001b[0m",
      "\u001b[1;32m~\\Documents\\backends\\atomic_mixtures_backend\\bosonic_backends.py\u001b[0m in \u001b[0;36mrun\u001b[1;34m(self, circuits, **kwargs)\u001b[0m\n\u001b[0;32m     98\u001b[0m         \u001b[0mheader\u001b[0m \u001b[1;33m=\u001b[0m \u001b[1;33m{\u001b[0m\u001b[1;34m'access_token'\u001b[0m\u001b[1;33m:\u001b[0m \u001b[0mself\u001b[0m\u001b[1;33m.\u001b[0m\u001b[0maccess_token\u001b[0m\u001b[1;33m,\u001b[0m \u001b[1;34m'SDK'\u001b[0m\u001b[1;33m:\u001b[0m \u001b[1;34m'qiskit'\u001b[0m\u001b[1;33m}\u001b[0m\u001b[1;33m\u001b[0m\u001b[1;33m\u001b[0m\u001b[0m\n\u001b[0;32m     99\u001b[0m \u001b[1;33m\u001b[0m\u001b[0m\n\u001b[1;32m--> 100\u001b[1;33m         \u001b[0mpayload\u001b[0m \u001b[1;33m=\u001b[0m \u001b[0mcircuit_to_cold_atom\u001b[0m\u001b[1;33m(\u001b[0m\u001b[0mcircuits\u001b[0m\u001b[1;33m,\u001b[0m \u001b[0mself\u001b[0m\u001b[1;33m)\u001b[0m\u001b[1;33m\u001b[0m\u001b[1;33m\u001b[0m\u001b[0m\n\u001b[0m\u001b[0;32m    101\u001b[0m \u001b[1;33m\u001b[0m\u001b[0m\n\u001b[0;32m    102\u001b[0m         \u001b[0mres\u001b[0m \u001b[1;33m=\u001b[0m \u001b[0mrequests\u001b[0m\u001b[1;33m.\u001b[0m\u001b[0mpost\u001b[0m\u001b[1;33m(\u001b[0m\u001b[0mself\u001b[0m\u001b[1;33m.\u001b[0m\u001b[0murl\u001b[0m \u001b[1;33m+\u001b[0m \u001b[1;34m'/post_job/'\u001b[0m\u001b[1;33m,\u001b[0m \u001b[0mdata\u001b[0m\u001b[1;33m=\u001b[0m\u001b[1;33m{\u001b[0m\u001b[1;34m'json'\u001b[0m\u001b[1;33m:\u001b[0m \u001b[0mjson\u001b[0m\u001b[1;33m.\u001b[0m\u001b[0mdumps\u001b[0m\u001b[1;33m(\u001b[0m\u001b[0mpayload\u001b[0m\u001b[1;33m)\u001b[0m\u001b[1;33m}\u001b[0m\u001b[1;33m)\u001b[0m  \u001b[1;31m# headers=header)\u001b[0m\u001b[1;33m\u001b[0m\u001b[1;33m\u001b[0m\u001b[0m\n",
      "\u001b[1;32m~\\Documents\\backends\\atomic_mixtures_backend\\circuit_to_cold_atom.py\u001b[0m in \u001b[0;36mcircuit_to_cold_atom\u001b[1;34m(circuits, backend, shots)\u001b[0m\n\u001b[0;32m     80\u001b[0m     \u001b[0mexperiments\u001b[0m \u001b[1;33m=\u001b[0m \u001b[1;33m{\u001b[0m\u001b[1;33m}\u001b[0m\u001b[1;33m\u001b[0m\u001b[1;33m\u001b[0m\u001b[0m\n\u001b[0;32m     81\u001b[0m     \u001b[1;32mfor\u001b[0m \u001b[0midx\u001b[0m\u001b[1;33m,\u001b[0m \u001b[0mcircuit\u001b[0m \u001b[1;32min\u001b[0m \u001b[0menumerate\u001b[0m\u001b[1;33m(\u001b[0m\u001b[0mcircuits\u001b[0m\u001b[1;33m)\u001b[0m\u001b[1;33m:\u001b[0m\u001b[1;33m\u001b[0m\u001b[1;33m\u001b[0m\u001b[0m\n\u001b[1;32m---> 82\u001b[1;33m         experiments['experiment_%i' % idx] = {'instructions': circuit_to_data(circuit, backend),\n\u001b[0m\u001b[0;32m     83\u001b[0m                                               \u001b[1;34m'shots'\u001b[0m\u001b[1;33m:\u001b[0m \u001b[0mshots\u001b[0m\u001b[1;33m,\u001b[0m\u001b[1;33m\u001b[0m\u001b[1;33m\u001b[0m\u001b[0m\n\u001b[0;32m     84\u001b[0m                                               'num_wires': circuit.num_qubits}\n",
      "\u001b[1;32m~\\Documents\\backends\\atomic_mixtures_backend\\circuit_to_cold_atom.py\u001b[0m in \u001b[0;36mcircuit_to_data\u001b[1;34m(circuit, backend)\u001b[0m\n\u001b[0;32m     47\u001b[0m \u001b[1;33m\u001b[0m\u001b[0m\n\u001b[0;32m     48\u001b[0m         \u001b[1;31m# check if instruction is supported by the backend\u001b[0m\u001b[1;33m\u001b[0m\u001b[1;33m\u001b[0m\u001b[1;33m\u001b[0m\u001b[0m\n\u001b[1;32m---> 49\u001b[1;33m         \u001b[1;32massert\u001b[0m \u001b[0mname\u001b[0m \u001b[1;32min\u001b[0m \u001b[0mnative_instructions\u001b[0m\u001b[1;33m,\u001b[0m \u001b[1;34m\"{} does not support {}.\"\u001b[0m\u001b[1;33m.\u001b[0m\u001b[0mformat\u001b[0m\u001b[1;33m(\u001b[0m\u001b[0mbackend\u001b[0m\u001b[1;33m.\u001b[0m\u001b[0mname\u001b[0m\u001b[1;33m(\u001b[0m\u001b[1;33m)\u001b[0m\u001b[1;33m,\u001b[0m \u001b[0mname\u001b[0m\u001b[1;33m)\u001b[0m\u001b[1;33m\u001b[0m\u001b[1;33m\u001b[0m\u001b[0m\n\u001b[0m\u001b[0;32m     50\u001b[0m \u001b[1;33m\u001b[0m\u001b[0m\n\u001b[0;32m     51\u001b[0m         \u001b[1;31m# for the gates, check whether coupling map fits\u001b[0m\u001b[1;33m\u001b[0m\u001b[1;33m\u001b[0m\u001b[1;33m\u001b[0m\u001b[0m\n",
      "\u001b[1;31mAssertionError\u001b[0m: SoPa_atomic_mixtures does not support rz."
     ]
    }
   ],
   "source": [
    "job = backend.run(circuit_list)"
   ]
  },
  {
   "cell_type": "code",
   "execution_count": 6,
   "id": "weekly-boards",
   "metadata": {},
   "outputs": [
    {
     "name": "stdout",
     "output_type": "stream",
     "text": [
      "20210330_124239_3c620\n",
      "INITIALIZING\n"
     ]
    }
   ],
   "source": [
    "print(job.job_id())\n",
    "print(job.status())"
   ]
  },
  {
   "cell_type": "code",
   "execution_count": 8,
   "id": "loving-territory",
   "metadata": {},
   "outputs": [
    {
     "name": "stdout",
     "output_type": "stream",
     "text": [
      "completed cycle\n",
      "completed cycle\n",
      "completed cycle\n"
     ]
    },
    {
     "ename": "JobTimeoutError",
     "evalue": "'Timed out waiting for result'",
     "output_type": "error",
     "traceback": [
      "\u001b[1;31m---------------------------------------------------------------------------\u001b[0m",
      "\u001b[1;31mJobTimeoutError\u001b[0m                           Traceback (most recent call last)",
      "\u001b[1;32m<ipython-input-8-b3668c94d4f2>\u001b[0m in \u001b[0;36m<module>\u001b[1;34m\u001b[0m\n\u001b[1;32m----> 1\u001b[1;33m \u001b[0mresult\u001b[0m \u001b[1;33m=\u001b[0m \u001b[0mjob\u001b[0m\u001b[1;33m.\u001b[0m\u001b[0mresult\u001b[0m\u001b[1;33m(\u001b[0m\u001b[0mtimeout\u001b[0m\u001b[1;33m=\u001b[0m\u001b[1;36m20\u001b[0m\u001b[1;33m)\u001b[0m\u001b[1;33m\u001b[0m\u001b[1;33m\u001b[0m\u001b[0m\n\u001b[0m\u001b[0;32m      2\u001b[0m \u001b[1;33m\u001b[0m\u001b[0m\n\u001b[0;32m      3\u001b[0m \u001b[0mprint\u001b[0m\u001b[1;33m(\u001b[0m\u001b[0mresult\u001b[0m\u001b[1;33m)\u001b[0m\u001b[1;33m\u001b[0m\u001b[1;33m\u001b[0m\u001b[0m\n",
      "\u001b[1;32m~\\Documents\\backends\\atomic_mixtures_backend\\cold_atom_job.py\u001b[0m in \u001b[0;36mresult\u001b[1;34m(self, timeout, wait)\u001b[0m\n\u001b[0;32m     77\u001b[0m     \u001b[1;32mdef\u001b[0m \u001b[0mresult\u001b[0m\u001b[1;33m(\u001b[0m\u001b[0mself\u001b[0m\u001b[1;33m,\u001b[0m \u001b[0mtimeout\u001b[0m\u001b[1;33m:\u001b[0m \u001b[0mfloat\u001b[0m \u001b[1;33m=\u001b[0m \u001b[1;32mNone\u001b[0m\u001b[1;33m,\u001b[0m \u001b[0mwait\u001b[0m\u001b[1;33m:\u001b[0m \u001b[0mfloat\u001b[0m \u001b[1;33m=\u001b[0m \u001b[1;36m5.0\u001b[0m\u001b[1;33m)\u001b[0m \u001b[1;33m->\u001b[0m \u001b[0mResult\u001b[0m\u001b[1;33m:\u001b[0m\u001b[1;33m\u001b[0m\u001b[1;33m\u001b[0m\u001b[0m\n\u001b[0;32m     78\u001b[0m         \u001b[1;34m\"\"\"Retrieve a result from the backend.\"\"\"\u001b[0m\u001b[1;33m\u001b[0m\u001b[1;33m\u001b[0m\u001b[0m\n\u001b[1;32m---> 79\u001b[1;33m         \u001b[0mresult_dict\u001b[0m \u001b[1;33m=\u001b[0m \u001b[0mself\u001b[0m\u001b[1;33m.\u001b[0m\u001b[0m_wait_for_result\u001b[0m\u001b[1;33m(\u001b[0m\u001b[0mtimeout\u001b[0m\u001b[1;33m,\u001b[0m \u001b[0mwait\u001b[0m\u001b[1;33m=\u001b[0m\u001b[0mwait\u001b[0m\u001b[1;33m)\u001b[0m\u001b[1;33m\u001b[0m\u001b[1;33m\u001b[0m\u001b[0m\n\u001b[0m\u001b[0;32m     80\u001b[0m \u001b[1;33m\u001b[0m\u001b[0m\n\u001b[0;32m     81\u001b[0m         \u001b[1;32mreturn\u001b[0m \u001b[0mResult\u001b[0m\u001b[1;33m.\u001b[0m\u001b[0mfrom_dict\u001b[0m\u001b[1;33m(\u001b[0m\u001b[0mresult_dict\u001b[0m\u001b[1;33m)\u001b[0m\u001b[1;33m\u001b[0m\u001b[1;33m\u001b[0m\u001b[0m\n",
      "\u001b[1;32m~\\Documents\\backends\\atomic_mixtures_backend\\cold_atom_job.py\u001b[0m in \u001b[0;36m_wait_for_result\u001b[1;34m(self, timeout, wait)\u001b[0m\n\u001b[0;32m     61\u001b[0m             \u001b[0melapsed\u001b[0m \u001b[1;33m=\u001b[0m \u001b[0mtime\u001b[0m\u001b[1;33m.\u001b[0m\u001b[0mtime\u001b[0m\u001b[1;33m(\u001b[0m\u001b[1;33m)\u001b[0m \u001b[1;33m-\u001b[0m \u001b[0mstart_time\u001b[0m\u001b[1;33m\u001b[0m\u001b[1;33m\u001b[0m\u001b[0m\n\u001b[0;32m     62\u001b[0m             \u001b[1;32mif\u001b[0m \u001b[0mtimeout\u001b[0m \u001b[1;32mand\u001b[0m \u001b[0melapsed\u001b[0m \u001b[1;33m>=\u001b[0m \u001b[0mtimeout\u001b[0m\u001b[1;33m:\u001b[0m\u001b[1;33m\u001b[0m\u001b[1;33m\u001b[0m\u001b[0m\n\u001b[1;32m---> 63\u001b[1;33m                 \u001b[1;32mraise\u001b[0m \u001b[0mJobTimeoutError\u001b[0m\u001b[1;33m(\u001b[0m\u001b[1;34m'Timed out waiting for result'\u001b[0m\u001b[1;33m)\u001b[0m\u001b[1;33m\u001b[0m\u001b[1;33m\u001b[0m\u001b[0m\n\u001b[0m\u001b[0;32m     64\u001b[0m \u001b[1;33m\u001b[0m\u001b[0m\n\u001b[0;32m     65\u001b[0m             \u001b[0mparams\u001b[0m \u001b[1;33m=\u001b[0m \u001b[1;33m{\u001b[0m\u001b[1;34m'job_id'\u001b[0m\u001b[1;33m:\u001b[0m \u001b[0mself\u001b[0m\u001b[1;33m.\u001b[0m\u001b[0m_job_id\u001b[0m\u001b[1;33m,\u001b[0m \u001b[1;34m'access_token'\u001b[0m\u001b[1;33m:\u001b[0m \u001b[0mtoken\u001b[0m\u001b[1;33m}\u001b[0m\u001b[1;33m\u001b[0m\u001b[1;33m\u001b[0m\u001b[0m\n",
      "\u001b[1;31mJobTimeoutError\u001b[0m: 'Timed out waiting for result'"
     ]
    }
   ],
   "source": [
    "result = job.result(timeout=20)\n",
    "\n",
    "print(result)"
   ]
  },
  {
   "cell_type": "code",
   "execution_count": null,
   "id": "adjacent-hello",
   "metadata": {},
   "outputs": [],
   "source": [
    "result_dict = result.to_dict()\n",
    "pprint.pprint(result_dict)"
   ]
  },
  {
   "cell_type": "code",
   "execution_count": null,
   "id": "taken-geology",
   "metadata": {},
   "outputs": [],
   "source": []
  }
 ],
 "metadata": {
  "kernelspec": {
   "display_name": "Python 3",
   "language": "python",
   "name": "python3"
  },
  "language_info": {
   "codemirror_mode": {
    "name": "ipython",
    "version": 3
   },
   "file_extension": ".py",
   "mimetype": "text/x-python",
   "name": "python",
   "nbconvert_exporter": "python",
   "pygments_lexer": "ipython3",
   "version": "3.9.2"
  }
 },
 "nbformat": 4,
 "nbformat_minor": 5
}
