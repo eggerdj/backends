{
 "cells": [
  {
   "cell_type": "code",
   "execution_count": 2,
   "metadata": {},
   "outputs": [],
   "source": [
    "from pprint import pprint\n",
    "import json\n",
    "import requests"
   ]
  },
  {
   "cell_type": "markdown",
   "metadata": {},
   "source": [
    "## Get config"
   ]
  },
  {
   "cell_type": "code",
   "execution_count": 3,
   "metadata": {},
   "outputs": [
    {
     "name": "stdout",
     "output_type": "stream",
     "text": [
      "{'atomic_species': ['na'],\n",
      " 'backend_name': 'SYNQS_NaLi_spins_backend',\n",
      " 'backend_version': '0.0.1',\n",
      " 'basis_gates': ['rLx', 'rLz', 'rLz2'],\n",
      " 'conditional': False,\n",
      " 'coupling_map': [[]],\n",
      " 'credits_required': False,\n",
      " 'description': 'Setup of a cold atomic mixtures experiment with qudits.',\n",
      " 'display_name': 'NaLi',\n",
      " 'gates': [{'coupling_map': [[0], [1], [2], [3], [4]],\n",
      "            'description': 'Evolution under the Z gate',\n",
      "            'name': 'rLz',\n",
      "            'parameters': ['delta'],\n",
      "            'qasm_def': 'gate rLz(delta) {}'},\n",
      "           {'coupling_map': [[0], [1], [2], [3], [4]],\n",
      "            'description': 'Evolution under the Z2 gate',\n",
      "            'name': 'rLz2',\n",
      "            'parameters': ['chi'],\n",
      "            'qasm_def': 'gate rLz2(chi) {}'},\n",
      "           {'coupling_map': [[0], [1], [2], [3], [4]],\n",
      "            'description': 'Evolution under the X gate',\n",
      "            'name': 'rLx',\n",
      "            'parameters': ['omega'],\n",
      "            'qasm_def': 'gate rx(omega) {}'}],\n",
      " 'local': False,\n",
      " 'max_experiments': 3,\n",
      " 'max_shots': 60,\n",
      " 'memory': True,\n",
      " 'n_qubits': 5,\n",
      " 'open_pulse': False,\n",
      " 'simulator': False,\n",
      " 'supported_instructions': ['delay',\n",
      "                            'rLx',\n",
      "                            'rLz',\n",
      "                            'rLz2',\n",
      "                            'measure',\n",
      "                            'barrier'],\n",
      " 'url': 'http://localhost:9000/shots/'}\n"
     ]
    }
   ],
   "source": [
    "url=\"http://localhost:9000/shots/get_config/\"\n",
    "\n",
    "r = requests.get(url)\n",
    "\n",
    "pprint(r.json())\n",
    "#print(r.content)"
   ]
  },
  {
   "cell_type": "markdown",
   "metadata": {},
   "source": [
    "## Submit jobs"
   ]
  },
  {
   "cell_type": "raw",
   "metadata": {},
   "source": [
    "'''job_payload = {\n",
    "    'experiment_0': {\n",
    "        'instructions': [\n",
    "            ('rx', [0], [0.7]),\n",
    "            ('delay', [0, 1], [20]),\n",
    "            ('measure', [0], []),\n",
    "            ('measure', [1], [])\n",
    "        ],\n",
    "        'num_wires': 2,\n",
    "        'shots': 3\n",
    "    },\n",
    "    'user_id':'rohitp'\n",
    " }'''"
   ]
  },
  {
   "cell_type": "code",
   "execution_count": 4,
   "metadata": {},
   "outputs": [],
   "source": [
    "job_payload = {\n",
    "    'experiment_0': {\n",
    "        'instructions': [\n",
    "            ('rx', [0], [0.7]),\n",
    "            ('delay', [0, 1], [20]),\n",
    "            ('measure', [0], []),\n",
    "            ('measure', [1], [])\n",
    "        ],\n",
    "        'num_wires': 2,\n",
    "        'shots': 3\n",
    "    },\n",
    " }"
   ]
  },
  {
   "cell_type": "code",
   "execution_count": 5,
   "metadata": {},
   "outputs": [
    {
     "name": "stdout",
     "output_type": "stream",
     "text": [
      "{\"job_id\": \"20210408_141428_3ca63\", \"status\": \"INITIALIZING\", \"detail\": \"Got your json.\"}\n"
     ]
    }
   ],
   "source": [
    "url=\"http://localhost:9000/shots/post_job/\"\n",
    "\n",
    "job_response = requests.post(url, data={'json':json.dumps(job_payload)})\n",
    "\n",
    "print(job_response.text)"
   ]
  },
  {
   "cell_type": "code",
   "execution_count": 8,
   "metadata": {},
   "outputs": [
    {
     "name": "stdout",
     "output_type": "stream",
     "text": [
      "{'job_id': '20210408_141428_3ca63', 'status': 'INITIALIZING', 'detail': 'Got your json.'}\n"
     ]
    }
   ],
   "source": [
    "job_id = (job_response.json())\n",
    "print(job_id)"
   ]
  },
  {
   "cell_type": "markdown",
   "metadata": {},
   "source": [
    "## Get job status"
   ]
  },
  {
   "cell_type": "code",
   "execution_count": 12,
   "metadata": {},
   "outputs": [
    {
     "name": "stdout",
     "output_type": "stream",
     "text": [
      "200\n"
     ]
    },
    {
     "data": {
      "text/plain": [
       "'None'"
      ]
     },
     "execution_count": 12,
     "metadata": {},
     "output_type": "execute_result"
    }
   ],
   "source": [
    "status_payload = {'job_id': job_id}\n",
    "url=\"http://localhost:9000/shots/get_job_status/\"\n",
    "\n",
    "status_response = requests.get(url,  params={'json':json.dumps(status_payload)})\n",
    "\n",
    "print(status_response.status_code)\n",
    "\n",
    "status_response.json()['status']\n",
    "\n",
    "# print(status_response.json())"
   ]
  },
  {
   "cell_type": "markdown",
   "metadata": {},
   "source": [
    "## Get job results"
   ]
  },
  {
   "cell_type": "code",
   "execution_count": 7,
   "metadata": {
    "scrolled": true
   },
   "outputs": [
    {
     "name": "stdout",
     "output_type": "stream",
     "text": [
      "{\"job_id\": {\"job_id\": \"20210330_124031_cce46\", \"status\": \"INITIALIZING\", \"detail\": \"Got your json.\"}, \"status\": \"None\", \"detail\": \"Error getting status. Maybe invalid JOB ID!\"}\n"
     ]
    }
   ],
   "source": [
    "result_payload = {'job_id': job_id}\n",
    "url=\"http://localhost:9000/shots/get_job_result/\"\n",
    "\n",
    "result_response = requests.get(url,  params={'json':json.dumps(result_payload)})\n",
    "\n",
    "print(result_response.text)"
   ]
  },
  {
   "cell_type": "code",
   "execution_count": null,
   "metadata": {},
   "outputs": [],
   "source": []
  }
 ],
 "metadata": {
  "kernelspec": {
   "display_name": "Python 3",
   "language": "python",
   "name": "python3"
  },
  "language_info": {
   "codemirror_mode": {
    "name": "ipython",
    "version": 3
   },
   "file_extension": ".py",
   "mimetype": "text/x-python",
   "name": "python",
   "nbconvert_exporter": "python",
   "pygments_lexer": "ipython3",
   "version": "3.9.2"
  }
 },
 "nbformat": 4,
 "nbformat_minor": 4
}
