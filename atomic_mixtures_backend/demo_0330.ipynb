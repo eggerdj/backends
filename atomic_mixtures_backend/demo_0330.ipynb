{
 "cells": [
  {
   "cell_type": "code",
   "execution_count": 1,
   "metadata": {},
   "outputs": [],
   "source": [
    "from pprint import pprint\n",
    "import json\n",
    "import requests"
   ]
  },
  {
   "cell_type": "markdown",
   "metadata": {},
   "source": [
    "## Get config"
   ]
  },
  {
   "cell_type": "code",
   "execution_count": 2,
   "metadata": {},
   "outputs": [
    {
     "name": "stdout",
     "output_type": "stream",
     "text": [
      "{'atomic_species': ['na', 'k'],\n",
      " 'backend_name': 'SoPa_atomic_mixtures',\n",
      " 'backend_version': '0.0.1',\n",
      " 'basis_gates': ['delay', 'rx'],\n",
      " 'conditional': False,\n",
      " 'coupling_map': [[0, 1]],\n",
      " 'credits_required': False,\n",
      " 'description': 'Setup of an atomic mixtures experiment with one trapping site '\n",
      "                'and two atomic species, namely Na and K.',\n",
      " 'display_name': 'SoPa',\n",
      " 'gates': [{'coupling_map': [[0, 1]],\n",
      "            'description': 'evolution under SCC Hamiltonian for time tau',\n",
      "            'name': 'delay',\n",
      "            'parameters': ['tau', 'delta'],\n",
      "            'qasm_def': 'gate delay(tau, delta) {}'},\n",
      "           {'coupling_map': [[0]],\n",
      "            'description': 'Rotation of the sodium spin',\n",
      "            'name': 'rx',\n",
      "            'parameters': ['theta'],\n",
      "            'qasm_def': 'gate rx(theta) {}'}],\n",
      " 'local': False,\n",
      " 'max_experiments': 3,\n",
      " 'max_shots': 60,\n",
      " 'memory': True,\n",
      " 'n_qubits': 2,\n",
      " 'online_date': 'Since_big_bang',\n",
      " 'open_pulse': False,\n",
      " 'simulator': False,\n",
      " 'supported_instructions': ['delay', 'rx', 'measure', 'barrier'],\n",
      " 'url': 'https://jendrzejewski.synqs.org/'}\n"
     ]
    }
   ],
   "source": [
    "url=\"http://localhost:9000/shots/get_config/\"\n",
    "\n",
    "r = requests.get(url)\n",
    "\n",
    "pprint(r.json())\n",
    "#print(r.content)"
   ]
  },
  {
   "cell_type": "markdown",
   "metadata": {},
   "source": [
    "## Submit jobs"
   ]
  },
  {
   "cell_type": "raw",
   "metadata": {},
   "source": [
    "'''job_payload = {\n",
    "    'experiment_0': {\n",
    "        'instructions': [\n",
    "            ('rx', [0], [0.7]),\n",
    "            ('delay', [0, 1], [20]),\n",
    "            ('measure', [0], []),\n",
    "            ('measure', [1], [])\n",
    "        ],\n",
    "        'num_wires': 2,\n",
    "        'shots': 3\n",
    "    },\n",
    "    'user_id':'rohitp'\n",
    " }'''"
   ]
  },
  {
   "cell_type": "code",
   "execution_count": 3,
   "metadata": {},
   "outputs": [],
   "source": [
    "job_payload = {\n",
    "    'experiment_0': {\n",
    "        'instructions': [\n",
    "            ('rx', [0], [0.7]),\n",
    "            ('delay', [0, 1], [20]),\n",
    "            ('measure', [0], []),\n",
    "            ('measure', [1], [])\n",
    "        ],\n",
    "        'num_wires': 2,\n",
    "        'shots': 3\n",
    "    },\n",
    " }"
   ]
  },
  {
   "cell_type": "code",
   "execution_count": 4,
   "metadata": {},
   "outputs": [
    {
     "name": "stdout",
     "output_type": "stream",
     "text": [
      "{\"job_id\": \"20210330_124031_cce46\", \"status\": \"INITIALIZING\", \"detail\": \"Got your json.\"}\n"
     ]
    }
   ],
   "source": [
    "url=\"http://localhost:9000/shots/post_job/\"\n",
    "\n",
    "job_response = requests.post(url, data={'json':json.dumps(job_payload)})\n",
    "\n",
    "print(job_response.text)"
   ]
  },
  {
   "cell_type": "code",
   "execution_count": 5,
   "metadata": {},
   "outputs": [],
   "source": [
    "job_id = (job_response.json())"
   ]
  },
  {
   "cell_type": "markdown",
   "metadata": {},
   "source": [
    "## Get job status"
   ]
  },
  {
   "cell_type": "code",
   "execution_count": 6,
   "metadata": {},
   "outputs": [
    {
     "name": "stdout",
     "output_type": "stream",
     "text": [
      "{'job_id': {'job_id': '20210330_124031_cce46', 'status': 'INITIALIZING', 'detail': 'Got your json.'}, 'status': 'None', 'detail': 'Error getting status. Maybe invalid JOB ID!'}\n"
     ]
    }
   ],
   "source": [
    "status_payload = {'job_id': job_id}\n",
    "url=\"http://localhost:9000/shots/get_job_status/\"\n",
    "\n",
    "status_response = requests.get(url,  params={'json':json.dumps(status_payload)})\n",
    "\n",
    "print(status_response.json())"
   ]
  },
  {
   "cell_type": "markdown",
   "metadata": {},
   "source": [
    "## Get job results"
   ]
  },
  {
   "cell_type": "code",
   "execution_count": 7,
   "metadata": {
    "scrolled": true
   },
   "outputs": [
    {
     "name": "stdout",
     "output_type": "stream",
     "text": [
      "{\"job_id\": {\"job_id\": \"20210330_124031_cce46\", \"status\": \"INITIALIZING\", \"detail\": \"Got your json.\"}, \"status\": \"None\", \"detail\": \"Error getting status. Maybe invalid JOB ID!\"}\n"
     ]
    }
   ],
   "source": [
    "result_payload = {'job_id': job_id}\n",
    "url=\"http://localhost:9000/shots/get_job_result/\"\n",
    "\n",
    "result_response = requests.get(url,  params={'json':json.dumps(result_payload)})\n",
    "\n",
    "print(result_response.text)"
   ]
  },
  {
   "cell_type": "code",
   "execution_count": null,
   "metadata": {},
   "outputs": [],
   "source": []
  }
 ],
 "metadata": {
  "kernelspec": {
   "display_name": "Python 3",
   "language": "python",
   "name": "python3"
  },
  "language_info": {
   "codemirror_mode": {
    "name": "ipython",
    "version": 3
   },
   "file_extension": ".py",
   "mimetype": "text/x-python",
   "name": "python",
   "nbconvert_exporter": "python",
   "pygments_lexer": "ipython3",
   "version": "3.9.2"
  }
 },
 "nbformat": 4,
 "nbformat_minor": 4
}
